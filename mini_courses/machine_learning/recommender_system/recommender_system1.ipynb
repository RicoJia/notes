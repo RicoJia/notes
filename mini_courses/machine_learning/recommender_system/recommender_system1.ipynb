{
 "cells": [
  {
   "attachments": {},
   "cell_type": "markdown",
   "metadata": {},
   "source": [
    "## Recommender System\n",
    "- Github: https://github.com/lazyprogrammer/machine_learning_examples\n",
    "- Please download this here and https://www.kaggle.com/datasets/grouplens/movielens-20m-dataset\n",
    "- Main Ideas: \n",
    "    1. if someone else like it, you might like it too;\n",
    "    2. How confident are we about a review? \n",
    "    3. Some \"Recency\" is necessary"
   ]
  },
  {
   "cell_type": "code",
   "execution_count": null,
   "metadata": {},
   "outputs": [],
   "source": []
  }
 ],
 "metadata": {
  "kernelspec": {
   "display_name": "Python 3",
   "language": "python",
   "name": "python3"
  },
  "language_info": {
   "name": "python",
   "version": "3.8.10 (default, Nov 14 2022, 12:59:47) \n[GCC 9.4.0]"
  },
  "orig_nbformat": 4,
  "vscode": {
   "interpreter": {
    "hash": "767d51c1340bd893661ea55ea3124f6de3c7a262a8b4abca0554b478b1e2ff90"
   }
  }
 },
 "nbformat": 4,
 "nbformat_minor": 2
}
