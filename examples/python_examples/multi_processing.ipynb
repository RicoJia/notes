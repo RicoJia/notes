{
 "cells": [
  {
   "attachments": {},
   "cell_type": "markdown",
   "metadata": {},
   "source": [
    "## Process Pools\n",
    "- ProcessPoolExecutor can: \n",
    "    - cancel an individual task (future.cancel()). \n",
    "- Pool can: \n",
    "    1. cancel all tasks: close()/terminate() \n",
    "    2. imap() lazy map; starmap()takes multiple arguments\n"
   ]
  },
  {
   "cell_type": "code",
   "execution_count": 8,
   "metadata": {},
   "outputs": [
    {
     "name": "stdout",
     "output_type": "stream",
     "text": [
      "os id: os id: os id: os id: os id:      130807213080711308068\n",
      "13080701308069\n",
      "\n",
      "\n",
      "\n",
      "./multithreading.ipynb 666\n",
      "./functions_basics.ipynb 253\n",
      "./python-cookbook-chap-9-20.ipynb 323\n",
      "./multiprocessing.ipynb 78\n",
      "./python-cookbook-chap-9-basics.ipynb 1107\n"
     ]
    }
   ],
   "source": [
    "#!/usr/bin/env python3\n",
    "# Dummy Program that reads files following a certain pattern\n",
    "# Then add the file name to a set\n",
    "import glob\n",
    "import os\n",
    "def read_file(file_path):\n",
    "    print(\"os id: \", os.getpid())\n",
    "    with open(file_path, \"r\") as f:\n",
    "        return file_path, len(f.readlines())\n",
    "\n",
    "files = glob.glob(\"./*.py\", recursive=True)\n",
    "# serial implementation: using map\n",
    "# for file_path, len_file in map(read_file, files):\n",
    "#     print(file_path, len_file)\n",
    "\n",
    "# Method 1\n",
    "import concurrent.futures\n",
    "# Here we're launching a python interpreter\n",
    "with concurrent.futures.ProcessPoolExecutor(5) as p:\n",
    "    for file_path, len_file in p.map(read_file, files):\n",
    "        print(file_path, len_file, \"pid: \", os.getpid())\n",
    "\n",
    "# Method 2\n",
    "def when_done(r):\n",
    "    file_path, len_file = r.result()\n",
    "    print(file_path, len_file, \"pid: \", os.getpid())\n",
    "with concurrent.futures.ProcessPoolExecutor(3) as p:\n",
    "    for f in files:\n",
    "        future_result = p.submit(read_file, f)\n",
    "        # This done callback is executed in parallel.\n",
    "        future_result.add_done_callback(when_done)\n",
    "\n"
   ]
  },
  {
   "attachments": {},
   "cell_type": "markdown",
   "metadata": {},
   "source": [
    "Can we push a callable instance /lambda to a pool?"
   ]
  }
 ],
 "metadata": {
  "kernelspec": {
   "display_name": "Python 3",
   "language": "python",
   "name": "python3"
  },
  "language_info": {
   "codemirror_mode": {
    "name": "ipython",
    "version": 3
   },
   "file_extension": ".py",
   "mimetype": "text/x-python",
   "name": "python",
   "nbconvert_exporter": "python",
   "pygments_lexer": "ipython3",
   "version": "3.8.10 (default, Nov 14 2022, 12:59:47) \n[GCC 9.4.0]"
  },
  "orig_nbformat": 4,
  "vscode": {
   "interpreter": {
    "hash": "767d51c1340bd893661ea55ea3124f6de3c7a262a8b4abca0554b478b1e2ff90"
   }
  }
 },
 "nbformat": 4,
 "nbformat_minor": 2
}
