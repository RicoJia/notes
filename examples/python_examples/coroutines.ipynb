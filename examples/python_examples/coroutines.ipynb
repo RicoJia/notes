{
 "cells": [
  {
   "attachments": {},
   "cell_type": "markdown",
   "metadata": {},
   "source": [
    "## Generator\n",
    "1. Generators are iterators\n",
    "    - yield it to return one value at a time. \n",
    "    - By default, StopIteration exception when the last value is yielded. So you don't have to write this explicitly\n",
    "    - A function with yield becomes a generator object, which can be iterated only once before stop_iteration is hit. \n",
    "        - The generator object has __next__(), which makes it an iterator\n",
    "    - Do not store all values in memory at once, generated on the fly"
   ]
  },
  {
   "cell_type": "code",
   "execution_count": 5,
   "metadata": {},
   "outputs": [
    {
     "name": "stdout",
     "output_type": "stream",
     "text": [
      "1\n",
      "while loop check\n",
      "2\n",
      "while loop check\n",
      "Print after yield\n",
      "123, 456\n",
      "Done While loop\n"
     ]
    }
   ],
   "source": [
    "\n",
    "def Bday_Gen():\n",
    "    yield 1\n",
    "    yield 2\n",
    "    # 1. get a StopIteration exception RIGHT after the last yield\n",
    "    # Then, the rest of the function after the last yield will be executed before the main function continues.\n",
    "    print(\"Print after yield\")\n",
    "    print(\"123, 456\")\n",
    "\n",
    "bday_gen = Bday_Gen()\n",
    "while (True):\n",
    "    try:\n",
    "        print(next(bday_gen))\n",
    "        print(\"while loop check\")\n",
    "    except StopIteration:\n",
    "        break\n",
    "print(\"Done While loop\")\n"
   ]
  },
  {
   "attachments": {},
   "cell_type": "markdown",
   "metadata": {},
   "source": [
    "2. `for i in <generator>` For loop calls next(iter(iterable)), and returns a generator"
   ]
  },
  {
   "cell_type": "code",
   "execution_count": null,
   "metadata": {},
   "outputs": [],
   "source": [
    "# 2. Use for loop instead\n",
    "g = (x for x in range(10))\n",
    "print(next(g))   # this is totes valid\n",
    "print(\"===============\")\n",
    "# can keep on iterating \n",
    "for i in g: \n",
    "    print(i)\n",
    "\n",
    "# use for loop \n",
    "bday_gen = Bday_Gen()\n",
    "print(\"===============\")\n",
    "for b in bday_gen: \n",
    "    print(b)\n",
    "\n"
   ]
  },
  {
   "attachments": {},
   "cell_type": "markdown",
   "metadata": {},
   "source": [
    "3. Design Patterns: \n",
    "    - Similar to iterating over N threads and get their output. But we don't have GIL here, so this could be faster than a lock \n",
    "    - Good for stuff that's generated indefinitely, real time\n",
    "    - Good for search, which decouples search process from the upper stream code"
   ]
  },
  {
   "cell_type": "code",
   "execution_count": null,
   "metadata": {},
   "outputs": [],
   "source": [
    "# 5 generator is a good design pattern for search\n",
    "ls = [1,2,3,4,5,6,7,8, 2, 2]\n",
    "def search(num): \n",
    "    for n in ls: \n",
    "        if n == num: \n",
    "            yield n\n",
    "for s in search(2): \n",
    "    print(s)"
   ]
  }
 ],
 "metadata": {
  "kernelspec": {
   "display_name": "Python 3",
   "language": "python",
   "name": "python3"
  },
  "language_info": {
   "codemirror_mode": {
    "name": "ipython",
    "version": 3
   },
   "file_extension": ".py",
   "mimetype": "text/x-python",
   "name": "python",
   "nbconvert_exporter": "python",
   "pygments_lexer": "ipython3",
   "version": "3.8.10"
  },
  "orig_nbformat": 4,
  "vscode": {
   "interpreter": {
    "hash": "767d51c1340bd893661ea55ea3124f6de3c7a262a8b4abca0554b478b1e2ff90"
   }
  }
 },
 "nbformat": 4,
 "nbformat_minor": 2
}
