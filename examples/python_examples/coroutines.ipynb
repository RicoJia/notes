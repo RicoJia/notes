{
 "cells": [
  {
   "attachments": {},
   "cell_type": "markdown",
   "metadata": {},
   "source": [
    "## Yield From (python 3.3+)\n",
    "1. This expression actually means \"Yield from iteratble\". Function with `Yield from` is still a generator. It's  roughly equivalent to\n",
    "    ```\n",
    "    yield from Iteratble <==>\n",
    "\n",
    "    for i in Iterable: \n",
    "        yield i\n",
    "    ```"
   ]
  },
  {
   "cell_type": "code",
   "execution_count": null,
   "metadata": {},
   "outputs": [],
   "source": [
    "# Example 1: yield from range object\n",
    "def yield_from_gen():\n",
    "    for i in range(2):\n",
    "        yield i\n",
    "\n",
    "for i in yield_from_gen():\n",
    "    print(i)\n",
    "\n",
    "# Example 2: yield from a generator\n",
    "def test(n): \n",
    "    i = 0\n",
    "    while i < n: \n",
    "        print(\"test i: \", i)\n",
    "        yield i\n",
    "        i+=1\n",
    "    print(\"This will be executed after the yield\")\n",
    "\n",
    "def yield_from_func(n): \n",
    "    print(\"Start: \")\n",
    "    j = yield from test(n)\n",
    "    print(\"j: \", j)\n",
    "    # 'This will be executed after the yield' will STILL be executed\n",
    "    # The last value of j will be None, after \n",
    "    print(\"========\")\n",
    "    # You can have another round \n",
    "    yield from test(n)\n",
    "    print(\"End: \")\n",
    "\n",
    "for i in yield_from_func(4): \n",
    "    print(\"main loop i: \", i)"
   ]
  },
  {
   "attachments": {},
   "cell_type": "markdown",
   "metadata": {},
   "source": []
  },
  {
   "attachments": {},
   "cell_type": "markdown",
   "metadata": {},
   "source": [
    "2. USE #1 : `Yield from` is to address the woes in `yield`. If you have `return` after a `yield`, the returned value will trigger an implicit `StopIteration`, but its value won't be captured.  \n",
    "    - `yield from` will capture the returned value. But it will also deliver the explicit `StopIteration`"
   ]
  },
  {
   "cell_type": "code",
   "execution_count": null,
   "metadata": {},
   "outputs": [],
   "source": [
    "# 1\n",
    "def some_gen(): \n",
    "    yield 0\n",
    "    yield 1\n",
    "    # You can also do return\n",
    "    return \"Done0\"\n",
    "\n",
    "g = some_gen()\n",
    "print(next(g))\n",
    "# now see 1, because generator picks up where it left off.\n",
    "print(next(g))\n",
    "try:\n",
    "    print(next(g))\n",
    "except StopIteration:\n",
    "    print(\"stop iteration is received, no return value\")\n",
    "\n",
    "# 2\n",
    "print(\"If directly using for loop, return value won't be returned \")\n",
    "g = some_gen()\n",
    "for i in g: \n",
    "    print(i)\n",
    "\n",
    "print(\"If using yield from, then using for loop, return value WILL be returned\")\n",
    "def test_some_gen():\n",
    "    g = some_gen()\n",
    "    res = yield from g\n",
    "    print(res)\n",
    "    print(\"After everything in yield from is ended, what's after will be finished\")\n",
    "for i in test_some_gen():\n",
    "    print(i)\n",
    "\n",
    "# 3\n",
    "tsg = test_some_gen()\n",
    "print(next(tsg))\n",
    "print(next(tsg))\n",
    "try: \n",
    "    next(tsg) # this will finish the part after yield from, but will also raise stopiteration\n",
    "except StopIteration:\n",
    "    print(\"If you manually call next() just enough times to finish yielding, you will see the return value, and the rest of the generator\")\n",
    "    \n"
   ]
  },
  {
   "attachments": {},
   "cell_type": "markdown",
   "metadata": {},
   "source": [
    "\n",
    "3. USE #2: `yield from` creates a layer to interact with the \"sender\", as a pipe. Python calls it a \"proxy generator\"\n",
    "    - Advance uses of `yield from`: can do `send`, and `close()` (see below)."
   ]
  },
  {
   "cell_type": "code",
   "execution_count": null,
   "metadata": {},
   "outputs": [],
   "source": [
    "def total_average():\n",
    "    total = 0.0\n",
    "    count = 0\n",
    "    avg = None\n",
    "    print(\"starting average generator\")\n",
    "    while True:\n",
    "        num = yield avg\n",
    "        if num is None:\n",
    "            break\n",
    "        total += num\n",
    "        count += 1\n",
    "        avg = total/count\n",
    "\n",
    "def wrap_average(average_generator):\n",
    "    \"\"\"This is just a pipe to the generator\"\"\"\n",
    "    print(\"starting wrap_average\")\n",
    "    avg = yield from average_generator\n",
    "\n",
    "# Note: total_average() is the generator object. total_average is generator function\n",
    "w = wrap_average(total_average())\n",
    "# Execute everthing until hitting the first iterator. None being returned\n",
    "print(\"starting the generator: \", next(w))\n",
    "print(w.send(3))\n",
    "print(w.send(4))\n",
    "# Finish Coroutine\n",
    "# ? Not sure why w.send(None) is giving me StopIteration? - yield from can still deliver StopIteration\n",
    "# w.send(None)\n",
    "try: \n",
    "    if w.send(5) == 4:\n",
    "        w.throw(ValueError(\"I don't like this value\"))\n",
    "except ValueError:\n",
    "    pass\n",
    "w.close()\n",
    "        \n",
    "    "
   ]
  },
  {
   "attachments": {},
   "cell_type": "markdown",
   "metadata": {},
   "source": [
    "Use #3: handling exceptions: "
   ]
  },
  {
   "cell_type": "code",
   "execution_count": null,
   "metadata": {},
   "outputs": [],
   "source": [
    "class SpamException(Exception):\n",
    "    pass\n",
    "\n",
    "def writer():\n",
    "    while True:\n",
    "        try:\n",
    "            w = (yield)\n",
    "        except SpamException:\n",
    "            print('***')\n",
    "        else:\n",
    "            print('>> ', w)\n",
    "\n",
    "\n",
    "def writer_wrapper(coro):\n",
    "    \"\"\"Works. Manually catches exceptions and throws them\"\"\"\n",
    "    coro.send(None)  # prime the coro\n",
    "    while True:\n",
    "        try:\n",
    "            try:\n",
    "                x = (yield)\n",
    "            except Exception as e:   # This catches the SpamException\n",
    "                print(\"wrapper caught exception: \", e)\n",
    "                coro.throw(e)\n",
    "            else:\n",
    "                print(\"wrapper: x\", x)\n",
    "                coro.send(x)\n",
    "        except StopIteration:\n",
    "            pass\n",
    "\n",
    "\n",
    "w_generator = writer_wrapper(writer())\n",
    "next(w_generator)\n",
    "# Note: if you send the SpamException, it won't be in the exception handling system.\n",
    "w_generator.send(SpamException(\"haha\"))\n",
    "w_generator.throw(SpamException(\"haha\"))"
   ]
  },
  {
   "attachments": {},
   "cell_type": "markdown",
   "metadata": {},
   "source": [
    "But with `yield from` this could be simplified to"
   ]
  },
  {
   "cell_type": "code",
   "execution_count": null,
   "metadata": {},
   "outputs": [],
   "source": [
    "def writer_wrapper(coro):\n",
    "    yield from coro\n",
    "\n",
    "w_generator = writer_wrapper(writer())\n",
    "next(w_generator)\n",
    "w_generator.throw(SpamException(\"Haha\"))"
   ]
  },
  {
   "cell_type": "code",
   "execution_count": null,
   "metadata": {},
   "outputs": [],
   "source": [
    "\n",
    "import functools\n",
    "import types\n",
    "def fake_coroutine(func):\n",
    "    # make use of the nice features of yield from\n",
    "    @functools.wraps(func)\n",
    "    def wrapper(*args, **kwargs):\n",
    "        rs = func(*args, **kwargs)\n",
    "        # res is any return value at the very end of rs\n",
    "        res = yield from rs\n",
    "        return res\n",
    "    wrapper = types.coroutine(wrapper)\n",
    "    return wrapper\n",
    "\n",
    "@fake_coroutine\n",
    "def multiplication_server():\n",
    "    res = None\n",
    "    while True:\n",
    "        a, b = yield res\n",
    "        res = a * b\n",
    "\n",
    "def multiplication_client(c):\n",
    "    # start the server by executing up to surpass first yield call\n",
    "    next(c)\n",
    "    # Send values to yield as a, b, do multiplication, then yield the result back\n",
    "    print(c.send((1,2)))\n",
    "    print(c.send((3,4)))\n",
    "    c.close()\n",
    "\n",
    "c = multiplication_server()\n",
    "multiplication_client(c)"
   ]
  },
  {
   "attachments": {},
   "cell_type": "markdown",
   "metadata": {},
   "source": [
    "\n",
    "1. asyncio.coroutine is a wrapper that calls next() on the function. Python3.4 - 3.10\n",
    "    - So it's basically a middle man, emit all values from yield, and catch return value\n",
    "    - Of course, if you call it manually, return value will surface after StopIteration\n",
    "    - this is where \"async.run_until_complete\" becomes handy\n"
   ]
  },
  {
   "cell_type": "code",
   "execution_count": null,
   "metadata": {},
   "outputs": [],
   "source": [
    "# Ipython / Jupyter Notebook does not play well with coroutine. Run this in a real python kernel\n",
    "import asyncio\n",
    "@asyncio.coroutine\n",
    "def multiplication_server():\n",
    "    res = None\n",
    "    while True:\n",
    "        a, b = yield res\n",
    "        res = a * b\n",
    "\n",
    "@asyncio.coroutine\n",
    "def multiplication_client(c):\n",
    "    # start the server by executing up to surpass first yield call\n",
    "    next(c)\n",
    "    # Send values to yield as a, b, do multiplication, then yield the result back\n",
    "    print(c.send((1,2)))\n",
    "    print(c.send((3,4)))\n",
    "    c.close()\n",
    "\n",
    "c = multiplication_server()\n",
    "loop = asyncio.get_event_loop()\n",
    "loop.run_until_complete(multiplication_client(c))\n",
    "loop.close()"
   ]
  },
  {
   "attachments": {},
   "cell_type": "markdown",
   "metadata": {},
   "source": [
    "`async def` and `await`. `async def` is equivalent to `asyncio.coroutine`, and `await` is equivalent to `yield from`"
   ]
  }
 ],
 "metadata": {
  "kernelspec": {
   "display_name": "Python 3",
   "language": "python",
   "name": "python3"
  },
  "language_info": {
   "codemirror_mode": {
    "name": "ipython",
    "version": 3
   },
   "file_extension": ".py",
   "mimetype": "text/x-python",
   "name": "python",
   "nbconvert_exporter": "python",
   "pygments_lexer": "ipython3",
   "version": "3.8.10"
  },
  "orig_nbformat": 4,
  "vscode": {
   "interpreter": {
    "hash": "767d51c1340bd893661ea55ea3124f6de3c7a262a8b4abca0554b478b1e2ff90"
   }
  }
 },
 "nbformat": 4,
 "nbformat_minor": 2
}
