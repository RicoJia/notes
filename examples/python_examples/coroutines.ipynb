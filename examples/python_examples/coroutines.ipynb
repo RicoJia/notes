{
 "cells": [
  {
   "attachments": {},
   "cell_type": "markdown",
   "metadata": {},
   "source": [
    "## Generator\n",
    "When we have an \"infinite\" source to generate data from, no container will be suitable. Then, we have a \"generator\".\n",
    "Generator has generator function and generator expressions. "
   ]
  },
  {
   "attachments": {},
   "cell_type": "markdown",
   "metadata": {},
   "source": [
    "1. Generator Expression: `for i in <generator>`. You can call the built-in `next()` on the generator, the generator will keep spitting out values until finishing the last value. Then, `StopIteration` is called. \n",
    "2. For loop calls next(iter(iterable)). "
   ]
  },
  {
   "cell_type": "code",
   "execution_count": 39,
   "metadata": {},
   "outputs": [
    {
     "name": "stdout",
     "output_type": "stream",
     "text": [
      "0\n",
      "===============\n",
      "1\n",
      "2\n",
      "3\n",
      "4\n",
      "5\n",
      "6\n",
      "7\n",
      "8\n",
      "9\n",
      "===============\n",
      "1\n",
      "2\n",
      "Print after yield\n",
      "123, 456\n"
     ]
    }
   ],
   "source": [
    "g = (x for x in range(10))\n",
    "print(next(g))   # this is totes valid\n",
    "print(\"===============\")\n",
    "# can keep on iterating \n",
    "for i in g: \n",
    "    print(i)\n",
    "\n",
    "# use for loop \n",
    "bday_gen = Bday_Gen()\n",
    "print(\"===============\")\n",
    "for b in bday_gen: \n",
    "    print(b)"
   ]
  },
  {
   "attachments": {},
   "cell_type": "markdown",
   "metadata": {},
   "source": [
    "1. Generators function are functions with `yield`` inside. How it works:\n",
    "    - Go to first yield, \n",
    "    - in the subsequent yield, start from the next line, finish at the next yield. \n",
    "    - By default, `StopIteration` exception when the last value is yielded. So you don't have to write this explicitly\n",
    "2. The generator object has `__next__()`, which makes it an iterator\n"
   ]
  },
  {
   "cell_type": "code",
   "execution_count": 40,
   "metadata": {},
   "outputs": [
    {
     "name": "stdout",
     "output_type": "stream",
     "text": [
      "1\n",
      "while loop check\n",
      "2\n",
      "while loop check\n",
      "Print after yield\n",
      "123, 456\n",
      "Done While loop\n"
     ]
    }
   ],
   "source": [
    "def Bday_Gen():\n",
    "    yield 1\n",
    "    yield 2\n",
    "    # 1. get a StopIteration exception RIGHT after the last yield\n",
    "    # Then, the rest of the function after the last yield will be executed before the main function continues.\n",
    "    print(\"Print after yield\")\n",
    "    print(\"123, 456\")\n",
    "\n",
    "bday_gen = Bday_Gen()\n",
    "while (True):\n",
    "    try:\n",
    "        print(next(bday_gen))\n",
    "        print(\"while loop check\")\n",
    "    except StopIteration:\n",
    "        break\n",
    "print(\"Done While loop\")\n"
   ]
  },
  {
   "attachments": {},
   "cell_type": "markdown",
   "metadata": {},
   "source": [
    "### Iterable, Iterator and Generator\n",
    "A container (list, tuple, etc.) are iterables. Iterator Protocol: \n",
    "    - `container.__iter__() -> Iterator` defines an iterable. `__iter__()` is used for `for ... in`\n",
    "    - For `Iterator`, we need \n",
    "        - `Iterator.__iter__() -> self`, for `for ... in`. \n",
    "        - `__next__()` that raises `StopIteration`. \n",
    "A generator function / expression automatically synthesizes `__iter()__` and `__next__()`"
   ]
  },
  {
   "cell_type": "code",
   "execution_count": 41,
   "metadata": {},
   "outputs": [
    {
     "name": "stdout",
     "output_type": "stream",
     "text": [
      "ls is not an iterator, it's a container (iterable). Use iter()\n"
     ]
    },
    {
     "data": {
      "text/plain": [
       "1"
      ]
     },
     "execution_count": 41,
     "metadata": {},
     "output_type": "execute_result"
    }
   ],
   "source": [
    "ls = [1,2,3]\n",
    "try: \n",
    "    next(ls)\n",
    "except TypeError:\n",
    "    print(\"ls is not an iterator, it's a container (iterable). Use iter()\")\n",
    "i = iter(ls)\n",
    "next(i)"
   ]
  },
  {
   "attachments": {},
   "cell_type": "markdown",
   "metadata": {},
   "source": [
    "Iterables are: \n",
    "    - `range` (`iter(range)`return an iterator.)\n",
    "    - generator\n",
    "    - containers"
   ]
  },
  {
   "cell_type": "code",
   "execution_count": 42,
   "metadata": {},
   "outputs": [
    {
     "name": "stdout",
     "output_type": "stream",
     "text": [
      "0\n",
      "1\n"
     ]
    }
   ],
   "source": [
    "i = iter(range(3))\n",
    "print(next(i))\n",
    "print(next(i))"
   ]
  },
  {
   "attachments": {},
   "cell_type": "markdown",
   "metadata": {},
   "source": [
    "### Design Patterns for generators\n",
    "Generator expression is an elegant way to reduce and transform data. max(), sum(), join(), no need to create a list. \n",
    "Generator Function can be used to: \n",
    "    - iterating over N threads and get their output. But we don't have GIL here, so this could be faster than a lock \n",
    "    - generate output indefinitely, (real time hardware)\n",
    "    - search which decouples search process from the upper stream code"
   ]
  },
  {
   "cell_type": "code",
   "execution_count": 43,
   "metadata": {},
   "outputs": [
    {
     "name": "stdout",
     "output_type": "stream",
     "text": [
      "2\n",
      "2\n",
      "2\n",
      "ACME,50,123.45\n",
      "20\n",
      "sum using generator:  51\n"
     ]
    }
   ],
   "source": [
    "# 5 generator is a good design pattern for search\n",
    "ls = [1,2,3,4,5,6,7,8, 2, 2]\n",
    "def search(num): \n",
    "    for n in ls: \n",
    "        if n == num: \n",
    "            yield n\n",
    "for s in search(2): \n",
    "    print(s)\n",
    "\n",
    "s = ('ACME', 50, 123.45)\n",
    "# \",\"(\"abc\") = \"a,b,c\"\n",
    "print(\",\".join(str(x) for x in s))\n",
    "\n",
    "\n",
    "portfolio = [ {'name':'GOOG', 'shares': 50}, {'name':'YHOO', 'shares': 75}, {'name':'AOL', 'shares': 20}]\n",
    "print(min(p[\"shares\"] for p in portfolio))\n",
    "nums = [1,2,3,45]\n",
    "print(\"sum using generator: \", sum(n for n in nums))"
   ]
  },
  {
   "attachments": {},
   "cell_type": "markdown",
   "metadata": {},
   "source": [
    "## Yield From (python 3.3+)\n",
    "1. This expression actually means \"Yield from iteratble\". Function with `Yield from` is still a generator. It's  roughly equivalent to\n",
    "    ```\n",
    "    yield from Iteratble == \n",
    "    for i in Iterable: \n",
    "        yield i\n",
    "    ```"
   ]
  },
  {
   "cell_type": "code",
   "execution_count": 44,
   "metadata": {},
   "outputs": [
    {
     "name": "stdout",
     "output_type": "stream",
     "text": [
      "0\n",
      "1\n",
      "Start: \n",
      "test i:  0\n",
      "main loop i:  0\n",
      "test i:  1\n",
      "main loop i:  1\n",
      "test i:  2\n",
      "main loop i:  2\n",
      "test i:  3\n",
      "main loop i:  3\n",
      "This will be executed after the yield\n",
      "j:  None\n",
      "========\n",
      "test i:  0\n",
      "main loop i:  0\n",
      "test i:  1\n",
      "main loop i:  1\n",
      "test i:  2\n",
      "main loop i:  2\n",
      "test i:  3\n",
      "main loop i:  3\n",
      "This will be executed after the yield\n",
      "End: \n"
     ]
    }
   ],
   "source": [
    "# Example 1: yield from range object\n",
    "def yield_from_gen():\n",
    "    for i in range(2):\n",
    "        yield i\n",
    "\n",
    "for i in yield_from_gen():\n",
    "    print(i)\n",
    "\n",
    "# Example 2: yield from a generator\n",
    "def test(n): \n",
    "    i = 0\n",
    "    while i < n: \n",
    "        print(\"test i: \", i)\n",
    "        yield i\n",
    "        i+=1\n",
    "    print(\"This will be executed after the yield\")\n",
    "\n",
    "def yield_from_func(n): \n",
    "    print(\"Start: \")\n",
    "    j = yield from test(n)\n",
    "    print(\"j: \", j)\n",
    "    # 'This will be executed after the yield' will STILL be executed\n",
    "    # The last value of j will be None, after \n",
    "    print(\"========\")\n",
    "    # You can have another round \n",
    "    yield from test(n)\n",
    "    print(\"End: \")\n",
    "\n",
    "for i in yield_from_func(4): \n",
    "    print(\"main loop i: \", i)"
   ]
  },
  {
   "attachments": {},
   "cell_type": "markdown",
   "metadata": {},
   "source": []
  },
  {
   "attachments": {},
   "cell_type": "markdown",
   "metadata": {},
   "source": [
    "2. `Yield from` is to address the woes in `yield`. If you have `return` after a `yield`, the returned value will trigger an implicit `StopIteration`, but its value won't be captured.  "
   ]
  },
  {
   "cell_type": "code",
   "execution_count": 45,
   "metadata": {},
   "outputs": [
    {
     "name": "stdout",
     "output_type": "stream",
     "text": [
      "0\n",
      "1\n",
      "stop iteration is received, no return value\n",
      "If directly using for loop, return value won't be returned \n",
      "0\n",
      "1\n",
      "If using yield from, then using for loop, return value WILL be returned\n",
      "0\n",
      "1\n",
      "Done0\n",
      "After everything in yield from is ended, what's after will be finished\n",
      "0\n",
      "1\n",
      "Done0\n",
      "After everything in yield from is ended, what's after will be finished\n",
      "If you manually call next() just enough times to finish yielding, you will see the return value, and the rest of the generator\n"
     ]
    }
   ],
   "source": [
    "# 1\n",
    "def some_gen(): \n",
    "    yield 0\n",
    "    yield 1\n",
    "    # You can also do return\n",
    "    return \"Done0\"\n",
    "\n",
    "g = some_gen()\n",
    "print(next(g))\n",
    "# now see 1, because generator picks up where it left off.\n",
    "print(next(g))\n",
    "try:\n",
    "    print(next(g))\n",
    "except StopIteration:\n",
    "    print(\"stop iteration is received, no return value\")\n",
    "\n",
    "# 2\n",
    "print(\"If directly using for loop, return value won't be returned \")\n",
    "g = some_gen()\n",
    "for i in g: \n",
    "    print(i)\n",
    "\n",
    "print(\"If using yield from, then using for loop, return value WILL be returned\")\n",
    "def test_some_gen():\n",
    "    g = some_gen()\n",
    "    res = yield from g\n",
    "    print(res)\n",
    "    print(\"After everything in yield from is ended, what's after will be finished\")\n",
    "for i in test_some_gen():\n",
    "    print(i)\n",
    "\n",
    "# 3\n",
    "tsg = test_some_gen()\n",
    "print(next(tsg))\n",
    "print(next(tsg))\n",
    "try: \n",
    "    next(tsg) # this will finish the part after yield from, but will also raise stopiteration\n",
    "except StopIteration:\n",
    "    print(\"If you manually call next() just enough times to finish yielding, you will see the return value, and the rest of the generator\")\n",
    "    \n"
   ]
  },
  {
   "attachments": {},
   "cell_type": "markdown",
   "metadata": {},
   "source": [
    "\n",
    "3. `yield from` creates a layer to interact with the \"sender\", as a pipe. Python calls it a \"proxy generator\"\n",
    "    - Advance uses of `yield from`: can do `send`, `.throw()` and `close()` (see below)."
   ]
  },
  {
   "cell_type": "code",
   "execution_count": 61,
   "metadata": {},
   "outputs": [
    {
     "name": "stdout",
     "output_type": "stream",
     "text": [
      "starting wrap_average\n",
      "starting average generator\n",
      "starting the generator:  None\n",
      "3.0\n",
      "3.5\n"
     ]
    }
   ],
   "source": [
    "def total_average():\n",
    "    total = 0.0\n",
    "    count = 0\n",
    "    avg = None\n",
    "    print(\"starting average generator\")\n",
    "    while True:\n",
    "        num = yield avg\n",
    "        if num is None:\n",
    "            break\n",
    "        total += num\n",
    "        count += 1\n",
    "        avg = total/count\n",
    "\n",
    "def wrap_average(average_generator):\n",
    "    \"\"\"This is just a pipe to the generator\"\"\"\n",
    "    print(\"starting wrap_average\")\n",
    "    avg = yield from average_generator\n",
    "\n",
    "# Note: total_average() is the generator object. total_average is generator function\n",
    "w = wrap_average(total_average())\n",
    "# Execute everthing until hitting the first iterator. None being returned\n",
    "print(\"starting the generator: \", next(w))\n",
    "print(w.send(3))\n",
    "print(w.send(4))\n",
    "# Finish Coroutine\n",
    "# ? Not sure why w.send(None) is giving me stop iteration?\n",
    "# w.send(None)\n",
    "try: \n",
    "    if w.send(5) == 4:\n",
    "        w.throw(ValueError(\"I don't like this value\"))\n",
    "except ValueError:\n",
    "    pass\n",
    "w.close()\n",
    "        \n",
    "    "
   ]
  },
  {
   "attachments": {},
   "cell_type": "markdown",
   "metadata": {},
   "source": [
    "## Coroutines \n",
    "Coroutines can be thought of as a function that can be \"paused\""
   ]
  },
  {
   "cell_type": "code",
   "execution_count": null,
   "metadata": {},
   "outputs": [],
   "source": []
  }
 ],
 "metadata": {
  "kernelspec": {
   "display_name": "Python 3",
   "language": "python",
   "name": "python3"
  },
  "language_info": {
   "codemirror_mode": {
    "name": "ipython",
    "version": 3
   },
   "file_extension": ".py",
   "mimetype": "text/x-python",
   "name": "python",
   "nbconvert_exporter": "python",
   "pygments_lexer": "ipython3",
   "version": "3.8.10"
  },
  "orig_nbformat": 4,
  "vscode": {
   "interpreter": {
    "hash": "767d51c1340bd893661ea55ea3124f6de3c7a262a8b4abca0554b478b1e2ff90"
   }
  }
 },
 "nbformat": 4,
 "nbformat_minor": 2
}
