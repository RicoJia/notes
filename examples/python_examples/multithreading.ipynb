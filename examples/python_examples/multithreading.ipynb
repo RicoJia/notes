{
 "cells": [
  {
   "cell_type": "code",
   "execution_count": 1,
   "metadata": {},
   "outputs": [],
   "source": [
    "import threading\n",
    "import time"
   ]
  },
  {
   "attachments": {},
   "cell_type": "markdown",
   "metadata": {},
   "source": [
    "## Theory\n",
    "1. Virtual Memory\n",
    "    ![IMG_0418](https://user-images.githubusercontent.com/106101331/210183406-c2378372-31db-4c19-8236-09d72651dfd5.jpg)\n",
    "    - A page is in place because writing from RAM to disk faster in chunks than in individual bits. \n",
    "    - When virtual address lookup fails, a page fault is generated. Then page fault exception handler writes a victim page in cache to disk, and load the target page from disk.\n",
    "2. Threads\n",
    "    - Each thread in Python occupies 8MB of virtual memory. However, only a small fraction of the virtual memory is mapped to the actual memory"
   ]
  },
  {
   "attachments": {},
   "cell_type": "markdown",
   "metadata": {},
   "source": [
    "## Basic Locking Mechanism\n",
    "The first way to write a concurrent program is to use a lock which spins on the mutex's acquire and release. "
   ]
  },
  {
   "cell_type": "code",
   "execution_count": 2,
   "metadata": {},
   "outputs": [],
   "source": [
    "def test_lock(): \n",
    "    lock = threading.Lock()\n",
    "    name = 10\n",
    "    def worker(): \n",
    "        lock.acquire(1)     # 1 is the timeput\n",
    "        nonlocal name\n",
    "        name += 1\n",
    "        print(name)\n",
    "        lock.release()\n",
    "\n",
    "        with lock: \n",
    "            print (name)\n",
    "\n",
    "    for j in range(2): \n",
    "        t = threading.Thread(target = worker)\n",
    "        t.start()\n",
    "\n",
    "    main_thread = threading.currentThread()\n",
    "    for t in threading.enumerate(): \n",
    "        if t is not main_thread: \n",
    "            t.join()"
   ]
  },
  {
   "attachments": {},
   "cell_type": "markdown",
   "metadata": {},
   "source": [
    "2. Re-entrant Lock\n",
    "    - A lock can be accessed by the same thread multiple times without releasing\n"
   ]
  },
  {
   "cell_type": "code",
   "execution_count": 3,
   "metadata": {},
   "outputs": [
    {
     "name": "stdout",
     "output_type": "stream",
     "text": [
      "First try:  True\n",
      "Second try:  True\n",
      "First release\n",
      "Second release\n",
      "Third try:  True\n"
     ]
    }
   ],
   "source": [
    "import threading\n",
    "lock = threading.RLock()\n",
    "print(\"First try: \", lock.acquire())\n",
    "print(\"Second try: \", lock.acquire())\n",
    "t1 = threading.Thread(target= lambda: print(\"Third try: \", lock.acquire()))\n",
    "t1.start()\n",
    "lock.release()\n",
    "print(\"First release\")\n",
    "lock.release()\n",
    "print(\"Second release\")\n",
    "t1.join()"
   ]
  },
  {
   "attachments": {},
   "cell_type": "markdown",
   "metadata": {},
   "source": [
    "## Other Mechanisms"
   ]
  },
  {
   "attachments": {},
   "cell_type": "markdown",
   "metadata": {},
   "source": [
    "1. Thread-local variables\n",
    "    - Each variable is specific to a particular thread. The thread can also add attributes to it.\n",
    "    - The use of this is when multiple threads need to access variable under the same name, but want them to be separate."
   ]
  },
  {
   "cell_type": "code",
   "execution_count": 4,
   "metadata": {},
   "outputs": [
    {
     "name": "stdout",
     "output_type": "stream",
     "text": [
      "final added_attr:  [140235981088576]\n",
      "final added_attr:  [140235606304512]\n"
     ]
    }
   ],
   "source": [
    "import threading\n",
    "var = threading.local()\n",
    "def func(var):\n",
    "    # Can assign a default value to the attribute if it doesn't exist\n",
    "    added_attr = getattr(var, \"added_attr\", [])\n",
    "    added_attr.append(threading.currentThread().ident)\n",
    "    var.added_attr = added_attr\n",
    "    print(\"final added_attr: \", var.added_attr)\n",
    "func(var)\n",
    "import time\n",
    "time.sleep(1)\n",
    "t1 = threading.Thread(target=func, args=(var, ))\n",
    "t1.start()"
   ]
  },
  {
   "attachments": {},
   "cell_type": "markdown",
   "metadata": {},
   "source": [
    "2. Thread pool\n",
    "    - Each worker thread will take on a packaged_task"
   ]
  },
  {
   "cell_type": "code",
   "execution_count": 28,
   "metadata": {},
   "outputs": [
    {
     "name": "stdout",
     "output_type": "stream",
     "text": [
      "0\n",
      "1\n",
      "2\n",
      "3\n",
      "4\n"
     ]
    }
   ],
   "source": [
    "import concurrent\n",
    "def test_threadpool(): \n",
    "    def foo(i): \n",
    "        print(i)\n",
    "\n",
    "    with concurrent.futures.ThreadPoolExecutor() as executor: \n",
    "        futures = []\n",
    "        for i in range(5): \n",
    "            futures.append(executor.submit(foo, i=i))\n",
    "        for future in futures: \n",
    "            future.result()\n",
    "test_threadpool()"
   ]
  },
  {
   "attachments": {},
   "cell_type": "markdown",
   "metadata": {},
   "source": [
    "## Inter-Thread Signaling \n",
    "An alternative to using a mutex is to wait for an event to happen. We have: \n",
    "- Event: great for getting an one-time event\n",
    "- Conditional Variable: To have reusable events, use conditional_variable.\n",
    "- Semaphore: An alternative to conditional_variable, allowing multiple threads to access a critical section\n"
   ]
  },
  {
   "cell_type": "code",
   "execution_count": 6,
   "metadata": {},
   "outputs": [],
   "source": [
    "def test_event(): \n",
    "    '''\n",
    "    - it has \"clear\", but that's still not atomic. \n",
    "    '''\n",
    "    def foo(ev):\n",
    "        for _ in range(5):\n",
    "            print(f\"Before flag: {ev.isSet()}\")\n",
    "            ev.wait(2) #timeout\n",
    "            print(f\"After flag: {ev.isSet()}\")\n",
    "\n",
    "    ev = threading.Event()\n",
    "    th1 = threading.Thread(name=\"Th1\", target=foo, args=(ev,))\n",
    "    th1.start()\n",
    "    time.sleep(1)\n",
    "    ev.set()\n",
    "    #before this is called, ev.wait() will not be called\n",
    "    ev.clear()"
   ]
  },
  {
   "cell_type": "code",
   "execution_count": 7,
   "metadata": {},
   "outputs": [
    {
     "name": "stdout",
     "output_type": "stream",
     "text": [
      "notified one thread\n",
      "notified all threads\n",
      "cv1 wait ended, thread id:  140235606304512\n",
      "cv1 wait ended, thread id:  140235597911808\n"
     ]
    }
   ],
   "source": [
    "from threading import Condition, Thread, get_ident\n",
    "def test_condition_variable_vanilla():\n",
    "    '''\n",
    "    - You can use context manager, or acquire, release.\n",
    "    - Conditional Variable has a lock in it. \n",
    "        - Waiter: first acquire the lock, then wait() will release the lock and block the current thread. Once awaken, the lock will be locked again, and will be released\n",
    "        - Caller: acquire the lock, call `notify_all` or `notify(n)`, then release\n",
    "    '''\n",
    "    # Vanilla way to create condition variable\n",
    "    cv1 = Condition()\n",
    "    def func1():\n",
    "        cv1.acquire()\n",
    "        cv1.wait()\n",
    "        print(\"cv1 wait ended, thread id: \", get_ident())\n",
    "        cv1.release()\n",
    "    def func2():\n",
    "        # can use context manager as well\n",
    "        with cv1:\n",
    "            cv1.wait()\n",
    "            print(\"cv1 wait ended, thread id: \", get_ident())\n",
    "\n",
    "    t = Thread(target=func1)\n",
    "    t2 = Thread(target=func2)\n",
    "    t.start()\n",
    "    t2.start()\n",
    "    cv1.acquire()\n",
    "    cv1.notify(n=1)\n",
    "    print(\"notified one thread\")\n",
    "    cv1.notify_all()\n",
    "    print(\"notified all threads\")\n",
    "    cv1.release()\n",
    "    t.join()\n",
    "    t2.join()\n",
    "\n",
    "test_condition_variable_vanilla()"
   ]
  },
  {
   "cell_type": "code",
   "execution_count": 8,
   "metadata": {},
   "outputs": [
    {
     "name": "stdout",
     "output_type": "stream",
     "text": [
      "before incrementing:  0\n",
      "after incrementing:  1\n",
      "before incrementing:  1\n",
      "after incrementing:  2\n",
      "before incrementing:  2\n",
      "after incrementing:  3\n",
      "before incrementing:  3\n",
      "after incrementing:  4\n",
      "before incrementing:  4\n",
      "after incrementing:  5\n",
      "before incrementing:  5\n",
      "after incrementing:  6\n",
      "before incrementing:  6\n",
      "after incrementing:  7\n",
      "before incrementing:  7\n",
      "after incrementing:  8\n",
      "before incrementing:  8\n",
      "after incrementing:  9\n",
      "before incrementing:  9\n",
      "after incrementing:  10\n",
      "7\n",
      "11\n"
     ]
    }
   ],
   "source": [
    "def test_semaphore():\n",
    "    \"\"\"\n",
    "    - Semaphore: integer shared by two processes\n",
    "        - Just like a parking lot indicator with 3 available slots. The semaphore will start at 3. When a car gets in, calls acquire(), wait() sets semaphore--. When semaphore == 0, nobody can get it. \n",
    "        - Mutex is semaphore = 1 (binary semaphore)\n",
    "        - Semaphore.acquire() will wait will the semaphore value is about to hit 0\n",
    "    \"\"\"\n",
    "    import threading\n",
    "    from threading import Semaphore\n",
    "    # when Semaphore is 1, it's binary\n",
    "    s = Semaphore(7)\n",
    "    w = 0\n",
    "    def wurk():\n",
    "        nonlocal s, w\n",
    "        s.acquire()\n",
    "        print(\"before incrementing: \", w)\n",
    "        w += 1\n",
    "        print(\"after incrementing: \", w)\n",
    "        s.release()\n",
    "\n",
    "    for i in range(10):\n",
    "        t = threading.Thread(target=wurk, args=(), daemon=True)\n",
    "        t.start()\n",
    "\n",
    "    # semaphore will keep increasing with the release calls!\n",
    "    print(s._value)\n",
    "    s.release()\n",
    "    s.release()\n",
    "    s.release()\n",
    "    s.release()\n",
    "    print(s._value)\n",
    "test_semaphore()\n"
   ]
  },
  {
   "cell_type": "code",
   "execution_count": 11,
   "metadata": {},
   "outputs": [
    {
     "ename": "KeyboardInterrupt",
     "evalue": "",
     "output_type": "error",
     "traceback": [
      "\u001b[0;31m---------------------------------------------------------------------------\u001b[0m",
      "\u001b[0;31mKeyboardInterrupt\u001b[0m                         Traceback (most recent call last)",
      "\u001b[1;32m/home/rjia/file_exchange_port/notes/examples/python_examples/multithreading.ipynb Cell 16\u001b[0m in \u001b[0;36m<cell line: 16>\u001b[0;34m()\u001b[0m\n\u001b[1;32m     <a href='vscode-notebook-cell:/home/rjia/file_exchange_port/notes/examples/python_examples/multithreading.ipynb#X32sZmlsZQ%3D%3D?line=13'>14</a>\u001b[0m \u001b[39m# t.start()\u001b[39;00m\n\u001b[1;32m     <a href='vscode-notebook-cell:/home/rjia/file_exchange_port/notes/examples/python_examples/multithreading.ipynb#X32sZmlsZQ%3D%3D?line=14'>15</a>\u001b[0m w \u001b[39m=\u001b[39m \u001b[39m\"\u001b[39m\u001b[39mw\u001b[39m\u001b[39m\"\u001b[39m\n\u001b[0;32m---> <a href='vscode-notebook-cell:/home/rjia/file_exchange_port/notes/examples/python_examples/multithreading.ipynb#X32sZmlsZQ%3D%3D?line=15'>16</a>\u001b[0m s\u001b[39m.\u001b[39;49macquire()\n",
      "File \u001b[0;32m/usr/lib/python3.8/threading.py:433\u001b[0m, in \u001b[0;36mSemaphore.acquire\u001b[0;34m(self, blocking, timeout)\u001b[0m\n\u001b[1;32m    431\u001b[0m             \u001b[39mif\u001b[39;00m timeout \u001b[39m<\u001b[39m\u001b[39m=\u001b[39m \u001b[39m0\u001b[39m:\n\u001b[1;32m    432\u001b[0m                 \u001b[39mbreak\u001b[39;00m\n\u001b[0;32m--> 433\u001b[0m     \u001b[39mself\u001b[39;49m\u001b[39m.\u001b[39;49m_cond\u001b[39m.\u001b[39;49mwait(timeout)\n\u001b[1;32m    434\u001b[0m \u001b[39melse\u001b[39;00m:\n\u001b[1;32m    435\u001b[0m     \u001b[39mself\u001b[39m\u001b[39m.\u001b[39m_value \u001b[39m-\u001b[39m\u001b[39m=\u001b[39m \u001b[39m1\u001b[39m\n",
      "File \u001b[0;32m/usr/lib/python3.8/threading.py:302\u001b[0m, in \u001b[0;36mCondition.wait\u001b[0;34m(self, timeout)\u001b[0m\n\u001b[1;32m    300\u001b[0m \u001b[39mtry\u001b[39;00m:    \u001b[39m# restore state no matter what (e.g., KeyboardInterrupt)\u001b[39;00m\n\u001b[1;32m    301\u001b[0m     \u001b[39mif\u001b[39;00m timeout \u001b[39mis\u001b[39;00m \u001b[39mNone\u001b[39;00m:\n\u001b[0;32m--> 302\u001b[0m         waiter\u001b[39m.\u001b[39;49macquire()\n\u001b[1;32m    303\u001b[0m         gotit \u001b[39m=\u001b[39m \u001b[39mTrue\u001b[39;00m\n\u001b[1;32m    304\u001b[0m     \u001b[39melse\u001b[39;00m:\n",
      "\u001b[0;31mKeyboardInterrupt\u001b[0m: "
     ]
    }
   ],
   "source": [
    "# test \"synchronization\" between 2 threads\n",
    "# Could be useful for synching with a ROS subscriber thread\n",
    "import threading\n",
    "from threading import Semaphore\n",
    "# when Semaphore is 1, it's binary\n",
    "s = Semaphore(0)\n",
    "w = 0\n",
    "def wurk():\n",
    "    print(f\"wurk: {w}\")\n",
    "    print(\"s val:\", s._value)\n",
    "    s.release()\n",
    "    print(\"s val:\", s._value)\n",
    "t = threading.Thread(target = wurk)\n",
    "# t.start()\n",
    "w = \"w\"\n",
    "s.acquire()\n"
   ]
  },
  {
   "attachments": {},
   "cell_type": "markdown",
   "metadata": {},
   "source": [
    "## Communication Between Threads\n",
    "1. Use ``Queue.queue \n",
    "    - Should use a sentinel value to signal termination\n",
    "    - Can put events on the queue to signal what objects are being processed\n",
    "    - **An object put on the queue is just a reference, not the object itself!**"
   ]
  },
  {
   "cell_type": "code",
   "execution_count": 9,
   "metadata": {},
   "outputs": [],
   "source": [
    "def test_multiple_threads_queue():\n",
    "    \"\"\"\n",
    "    1. thread.setDaemon(True) will make a daemon thread,which automatically & immediately joins when the main thread is joined.\n",
    "        - a regular non-daemon thread will have to wait until it finishes\n",
    "    2. task_done() signifying one item has been processed to the queue\n",
    "    3. join() waits for a thread to finish\n",
    "    4. About shutdown:\n",
    "        1. Common Practices\n",
    "            - send a sentinel value with the message is common practice\n",
    "            - Or have a special function that sets a flag to 0. \n",
    "        2. Pain: if you don't signal the thread, the thread will never know when to finish. Also, __del__ is not the way to go\n",
    "            - garbage collection happens when reference count = 1. But \n",
    "                - when a daemon thread is still running, the enclosing object skips destruction, and it's garbage collected when exiting the program\n",
    "                - when a non-daemon thread is still running, the main thread will hang because it will wait for the thread to finish\n",
    "            - notes: \n",
    "                - x.__del__() may not be called during program exit.\n",
    "                - del x doesn’t directly call x.__del__() — the former decrements the reference count for x by one, and the latter is only called when x’s reference count reaches zero.\n",
    "        3. you can't forcibly kill a thread like killing a process (implemented on SIGTERM)\n",
    "    \"\"\"\n",
    "    from queue import Queue, Empty\n",
    "    from threading import Thread\n",
    "    class Example:\n",
    "        def __init__(self):\n",
    "            self.should_run = True\n",
    "            self.q = Queue()\n",
    "            self.th = Thread(target = self.__work)\n",
    "            self.th.start()\n",
    "        def __work(self):\n",
    "            while self.should_run:\n",
    "                try: \n",
    "                    self.q.get(timeout=1)\n",
    "                    self.q.task_done()\n",
    "                except Empty:\n",
    "                    print(\"work should_run: \", self.should_run)\n",
    "                    pass\n",
    "        def put(self, value):\n",
    "            self.q.put(value)\n",
    "        def shutdown(self):\n",
    "            self.should_run = False\n",
    "        def __del__(self):\n",
    "            self.should_run = False\n",
    "            print(\"del should_run: \", self.should_run)\n",
    "            self.q.join()\n",
    "    f = Example()\n",
    "    f.put(1)\n",
    "    # object() could be a sentinel value\n",
    "    f.put(object())\n",
    "    f.shutdown()"
   ]
  },
  {
   "cell_type": "code",
   "execution_count": 10,
   "metadata": {},
   "outputs": [],
   "source": [
    "def test_daemon_thread():\n",
    "    \"\"\"\n",
    "    1. Daemon Thread joins after the process is joined\n",
    "        - shutdown: \n",
    "            1. If daemon thread has finished, join() succeeds and calls __del__ of daemon object\n",
    "            2. if not, it will be garbage collected and its object will live until then, whose __del__ is not guaranteed to be called\n",
    "    2. Problem: printing stuff in daemon thread is dangerous, may not be ablt to get lock for stdout at shutdown\n",
    "    \"\"\"\n",
    "    from threading import Thread\n",
    "    import queue\n",
    "    class TestDaemon:\n",
    "        def __init__(self):\n",
    "            self.queue = queue.Queue()\n",
    "            dth = Thread(target = self.daemon_func)\n",
    "            dth.setDaemon(True)\n",
    "            dth.start()\n",
    "        def daemon_func(self):\n",
    "            while True:\n",
    "                time.sleep(0.01)\n",
    "        def __del__(self):\n",
    "            self.queue.join()\n",
    "\n",
    "    t = TestDaemon()\n"
   ]
  },
  {
   "cell_type": "code",
   "execution_count": 11,
   "metadata": {},
   "outputs": [],
   "source": [
    "def test_threading_timer():\n",
    "    '''\n",
    "    1. Threading timer: execute a function on a different thread, after a certain timeout\n",
    "        - You can cancel that as well.\n",
    "    '''\n",
    "    import threading \n",
    "    import time\n",
    "    def print_msg(message):\n",
    "        print(message)\n",
    "    timer = threading.Timer(3, print_msg, args=(\"Heellloo\", ))\n",
    "    # start counting 3s\n",
    "    timer.start()\n",
    "    time.sleep(1)\n",
    "    timer.cancel()\n",
    "    print(\"Canceled timer\") \n",
    "\n",
    "    # thread can only be started once.\n",
    "    timer = threading.Timer(3, print_msg, args=(\"Heellloo\", ))\n",
    "    timer.start()\n",
    "    print(\"Waiting for timer to fire\") \n",
    "    time.sleep(4)\n",
    "    print(\"Main thread will do its thing as well\")"
   ]
  },
  {
   "attachments": {},
   "cell_type": "markdown",
   "metadata": {},
   "source": [
    "## Deadlock Avoidance\n",
    "Deadlocks happen when: \n",
    "    - thread 1 already has lock 1, thread 2 already has lock2\n",
    "    - thread 1 tries to acquire lock 2, thread 2 tries to acquire lock 1."
   ]
  },
  {
   "attachments": {},
   "cell_type": "markdown",
   "metadata": {},
   "source": [
    "1. Enforce all threads to acquire locks in the same order. "
   ]
  },
  {
   "cell_type": "code",
   "execution_count": 13,
   "metadata": {},
   "outputs": [
    {
     "name": "stdout",
     "output_type": "stream",
     "text": [
      "thread 1: id:  0\n",
      "thread 2: id:  0\n",
      "thread 2: id:  1\n",
      "thread 1: id:  1\n",
      "thread 2: id:  2\n",
      "thread 2: id:  3\n",
      "thread 2: id:  4\n",
      "thread 2: id:  5\n",
      "thread 2: id:  6\n",
      "thread 2: id:  7\n",
      "thread 2: id:  8\n",
      "thread 2: id:  9\n",
      "thread 1: id:  2\n",
      "thread 1: id:  3\n",
      "thread 1: id:  4\n",
      "thread 1: id:  5\n",
      "thread 1: id:  6\n",
      "thread 1: id:  7\n",
      "thread 1: id:  8\n",
      "thread 1: id:  9\n"
     ]
    }
   ],
   "source": [
    "import threading \n",
    "# threading.Lock objects is decorated typing_extension.final, \n",
    "# which prevents us from modifying its attributes and subclassing them.\n",
    "class HierarchicalLock:\n",
    "    def __init__(self, id):\n",
    "        self._lock = threading.Lock()\n",
    "        self.id = id\n",
    "    def acquire(self):\n",
    "        self._lock.acquire()    \n",
    "    def release(self):\n",
    "        self._lock.release()\n",
    "    def __enter__(self):\n",
    "        self.acquire()\n",
    "    def __exit__(self, exc_type, exc_value, traceback):\n",
    "        self.release()\n",
    "\n",
    "# 1. Create a thread local object\n",
    "_acquired = threading.local()\n",
    "# 2. a \"safe\" acquire function wrapped in a context manager\n",
    "from contextlib import contextmanager\n",
    "\n",
    "@contextmanager\n",
    "def hirarchical_acquire(*locks):\n",
    "    # Note: there's no Set.sort() like List.sort(), but you can use sorted_list=sorted(Set) \n",
    "    locks = sorted(locks, key=lambda l: l.id)\n",
    "    acquired = getattr(_acquired, \"list\", [])\n",
    "    if acquired and max([a.id for a in acquired]) >= locks[0].id:\n",
    "        raise RuntimeError(\"Lock order violated: a lower hierarchy lock must be acquired\",\n",
    "                           \"before higher hierarchy ones\")   \n",
    "    acquired.extend(locks)\n",
    "    _acquired.list = acquired\n",
    "\n",
    "    # acquire those locks\n",
    "    try:\n",
    "        for l in acquired:\n",
    "            l.acquire()\n",
    "        yield\n",
    "    finally:\n",
    "        # Note: use List = reversed(set)\n",
    "        for l in reversed(locks):\n",
    "            l.release()\n",
    "        # can use del to delete references in a list\n",
    "        del _acquired.list[-len(acquired):]\n",
    "\n",
    "# 3. Create a list of locks that will be shared by threads. They have explicit ids, too \n",
    "all_locks = []\n",
    "for i in range(3):\n",
    "    all_locks.append(HierarchicalLock(i))\n",
    "N = 10\n",
    "def func1():\n",
    "    for i in range(N):\n",
    "        # Note: need to unpack all_locks using *\n",
    "        with hirarchical_acquire(*all_locks[1:]):\n",
    "            print(\"thread 1: id: \", i)\n",
    "def func2():\n",
    "    for i in range(N):\n",
    "        with hirarchical_acquire(*all_locks[::-1]):\n",
    "            print(\"thread 2: id: \", i)\n",
    "# whoever starts first, will get to finish the function till the end \n",
    "t1 = threading.Thread(target=func1)\n",
    "t1.start()\n",
    "func2()"
   ]
  },
  {
   "cell_type": "code",
   "execution_count": 26,
   "metadata": {},
   "outputs": [
    {
     "name": "stdout",
     "output_type": "stream",
     "text": [
      "I'm philosopher 0 and I'm eating.left: 0 right: 1\n",
      "I'm philosopher 1 and I'm eating.left: 1 right: 2\n",
      "I'm philosopher 2 and I'm eating.left: 2 right: 3\n",
      "I'm philosopher 3 and I'm eating.left: 3 right: 4\n",
      "I'm philosopher 4 and I'm eating.left: 4 right: 0\n"
     ]
    }
   ],
   "source": [
    "# five philosophers\n",
    "N_CHOPSTIKS = 5\n",
    "N_PHILOSOPHERS = 5\n",
    "\n",
    "def phi(id, left_chopstick, right_chopstick):\n",
    "    with hirarchical_acquire(left_chopstick, right_chopstick):\n",
    "        print(f\"I'm philosopher {i} and I'm eating.\"\n",
    "              f\"left: {left_chopstick.id} right: {right_chopstick.id}\")\n",
    "\n",
    "chopsticks = []\n",
    "for i in range(N_CHOPSTIKS):\n",
    "    chopsticks.append(HierarchicalLock(i))\n",
    "\n",
    "philosophers = []\n",
    "for i in range(N_PHILOSOPHERS):\n",
    "    t = threading.Thread(target = phi, \n",
    "                         args = (i, chopsticks[i], chopsticks[(i+1)%N_CHOPSTIKS]))\n",
    "    philosophers.append(t)\n",
    "    t.start()"
   ]
  }
 ],
 "metadata": {
  "kernelspec": {
   "display_name": "Python 3",
   "language": "python",
   "name": "python3"
  },
  "language_info": {
   "codemirror_mode": {
    "name": "ipython",
    "version": 3
   },
   "file_extension": ".py",
   "mimetype": "text/x-python",
   "name": "python",
   "nbconvert_exporter": "python",
   "pygments_lexer": "ipython3",
   "version": "3.8.10 (default, Mar 13 2023, 10:26:41) \n[GCC 9.4.0]"
  },
  "orig_nbformat": 4,
  "vscode": {
   "interpreter": {
    "hash": "767d51c1340bd893661ea55ea3124f6de3c7a262a8b4abca0554b478b1e2ff90"
   }
  }
 },
 "nbformat": 4,
 "nbformat_minor": 2
}
