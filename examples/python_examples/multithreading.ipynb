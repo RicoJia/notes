{
 "cells": [
  {
   "cell_type": "code",
   "execution_count": null,
   "metadata": {},
   "outputs": [],
   "source": [
    "import threading\n",
    "import time"
   ]
  },
  {
   "cell_type": "code",
   "execution_count": null,
   "metadata": {},
   "outputs": [],
   "source": [
    "def test_lock(): \n",
    "    lock = threading.Lock()\n",
    "    name = 10\n",
    "    def worker(): \n",
    "        lock.acquire()\n",
    "        nonlocal name\n",
    "        name += 1\n",
    "        print(name)\n",
    "        lock.release()\n",
    "\n",
    "        with lock: \n",
    "            print (name)\n",
    "\n",
    "    for j in range(2): \n",
    "        t = threading.Thread(target = worker)\n",
    "        t.start()\n",
    "\n",
    "    main_thread = threading.currentThread()\n",
    "    for t in threading.enumerate(): \n",
    "        if t is not main_thread: \n",
    "            t.join()"
   ]
  },
  {
   "cell_type": "code",
   "execution_count": 2,
   "metadata": {},
   "outputs": [
    {
     "ename": "SyntaxError",
     "evalue": "unexpected EOF while parsing (1632129759.py, line 1)",
     "output_type": "error",
     "traceback": [
      "\u001b[0;36m  Input \u001b[0;32mIn [2]\u001b[0;36m\u001b[0m\n\u001b[0;31m    def test_condition_variable():\u001b[0m\n\u001b[0m                                   ^\u001b[0m\n\u001b[0;31mSyntaxError\u001b[0m\u001b[0;31m:\u001b[0m unexpected EOF while parsing\n"
     ]
    }
   ],
   "source": [
    "def test_condition_variable(): \n"
   ]
  },
  {
   "cell_type": "code",
   "execution_count": 3,
   "metadata": {},
   "outputs": [],
   "source": [
    "def test_event(): \n",
    "    '''\n",
    "    event is great for getting an one-time event\n",
    "    '''\n",
    "    def foo(ev):\n",
    "        print(f\"flag: {ev.isSet()}\")\n",
    "        ev.wait(20) #timeout\n",
    "        print(f\"flag: {ev.isSet()}\")\n",
    "\n",
    "    ev = threading.Event()\n",
    "    th1 = threading.Thread(name=\"Th1\", target=foo, args=(ev,))\n",
    "    th1.start()\n",
    "    time.sleep(1)"
   ]
  },
  {
   "cell_type": "code",
   "execution_count": 4,
   "metadata": {},
   "outputs": [],
   "source": [
    "def test_semaphore():\n",
    "    \"\"\"\n",
    "    - Semaphore: integer shared by two processes\n",
    "        - Just like a parking lot indicator with 3 available slots. The semaphore will start at 3. When a car gets in, calls acquire(), wait() sets semaphore--. When semaphore == 0, nobody can get it. \n",
    "        - Mutex is semaphore = 1 (binary semaphore)\n",
    "    \"\"\"\n",
    "    from threading import Semaphore\n",
    "    # when Semaphore is 1, it's binary\n",
    "    s = Semaphore(7)\n",
    "    w = 0\n",
    "    def wurk():\n",
    "        nonlocal s, w\n",
    "        s.acquire()\n",
    "        print(\"before incrementing: \", w)\n",
    "        w += 1\n",
    "        print(\"after incrementing: \", w)\n",
    "        s.release()\n",
    "\n",
    "    for i in range(10):\n",
    "        t = threading.Thread(target=wurk, args=(), daemon=True)\n",
    "        t.start()"
   ]
  },
  {
   "cell_type": "code",
   "execution_count": 5,
   "metadata": {},
   "outputs": [],
   "source": [
    "def test_threadpool(): \n",
    "    def foo(i): \n",
    "        print(i)\n",
    "\n",
    "    with concurrent.futures.ThreadPoolExecutor() as executor: \n",
    "        futures = []\n",
    "        for i in range(5): \n",
    "            futures.append(executor.submit(foo, i=i))\n",
    "        for future in futures: \n",
    "            future.result()"
   ]
  },
  {
   "cell_type": "code",
   "execution_count": 6,
   "metadata": {},
   "outputs": [],
   "source": [
    "def test_multiple_threads_queue():\n",
    "    \"\"\"\n",
    "    1. thread.setDaemon(True) will make a daemon thread,which automatically & immediately joins when the main thread is joined.\n",
    "        - a regular non-daemon thread will have to wait until it finishes\n",
    "    2. task_done() signifying one item has been processed to the queue\n",
    "    3. join() waits for a thread to finish\n",
    "    4. About shutdown:\n",
    "        1. Common Practices\n",
    "            - send a sentinel value with the message is common practice\n",
    "            - Or have a special function that sets a flag to 0. \n",
    "        2. Pain: if you don't signal the thread, the thread will never know when to finish. Also, __del__ is not the way to go\n",
    "            - garbage collection happens when reference count = 1. But \n",
    "                - when a daemon thread is still running, the enclosing object skips destruction, and it's garbage collected when exiting the program\n",
    "                - when a non-daemon thread is still running, the main thread will hang because it will wait for the thread to finish\n",
    "            - notes: \n",
    "                - x.__del__() may not be called during program exit.\n",
    "                - del x doesn’t directly call x.__del__() — the former decrements the reference count for x by one, and the latter is only called when x’s reference count reaches zero.\n",
    "        3. you can't forcibly kill a thread like killing a process (implemented on SIGTERM)\n",
    "    \"\"\"\n",
    "    from queue import Queue, Empty\n",
    "    from threading import Thread\n",
    "    class Example:\n",
    "        def __init__(self):\n",
    "            self.should_run = True\n",
    "            self.q = Queue()\n",
    "            self.th = Thread(target = self.__work)\n",
    "            self.th.start()\n",
    "        def __work(self):\n",
    "            while self.should_run:\n",
    "                try: \n",
    "                    self.q.get(timeout=1)\n",
    "                    self.q.task_done()\n",
    "                except Empty:\n",
    "                    print(\"work should_run: \", self.should_run)\n",
    "                    pass\n",
    "        def put(self, value):\n",
    "            self.q.put(value)\n",
    "        def shutdown(self):\n",
    "            self.should_run = False\n",
    "        def __del__(self):\n",
    "            self.should_run = False\n",
    "            print(\"del should_run: \", self.should_run)\n",
    "            self.q.join()\n",
    "    f = Example()\n",
    "    f.put(1)\n",
    "    # object() could be a sentinel value\n",
    "    f.put(object())\n",
    "    f.shutdown()"
   ]
  },
  {
   "cell_type": "code",
   "execution_count": 7,
   "metadata": {},
   "outputs": [],
   "source": [
    "def test_daemon_thread():\n",
    "    \"\"\"\n",
    "    1. Daemon Thread joins after the process is joined\n",
    "        - shutdown: \n",
    "            1. If daemon thread has finished, join() succeeds and calls __del__ of daemon object\n",
    "            2. if not, it will be garbage collected and its object will live until then, whose __del__ is not guaranteed to be called\n",
    "    2. Problem: printing stuff in daemon thread is dangerous, may not be ablt to get lock for stdout at shutdown\n",
    "    \"\"\"\n",
    "    from threading import Thread\n",
    "    import queue\n",
    "    class TestDaemon:\n",
    "        def __init__(self):\n",
    "            self.queue = queue.Queue()\n",
    "            dth = Thread(target = self.daemon_func)\n",
    "            dth.setDaemon(True)\n",
    "            dth.start()\n",
    "        def daemon_func(self):\n",
    "            while True:\n",
    "                time.sleep(0.01)\n",
    "        def __del__(self):\n",
    "            self.queue.join()\n",
    "\n",
    "    t = TestDaemon()\n"
   ]
  },
  {
   "cell_type": "code",
   "execution_count": null,
   "metadata": {},
   "outputs": [],
   "source": [
    "def test_threading_timer():\n",
    "    '''\n",
    "    1. Threading timer: execute a function on a different thread, after a certain timeout\n",
    "        - You can cancel that as well.\n",
    "    '''\n",
    "    import threading \n",
    "    import time\n",
    "    def print_msg(message):\n",
    "        print(message)\n",
    "    timer = threading.Timer(3, print_msg, args=(\"Heellloo\", ))\n",
    "    # start counting 3s\n",
    "    timer.start()\n",
    "    time.sleep(1)\n",
    "    timer.cancel()\n",
    "    print(\"Canceled timer\") \n",
    "\n",
    "    # thread can only be started once.\n",
    "    timer = threading.Timer(3, print_msg, args=(\"Heellloo\", ))\n",
    "    timer.start()\n",
    "    print(\"Waiting for timer to fire\") \n",
    "    time.sleep(4)\n",
    "    print(\"Main thread will do its thing as well\")"
   ]
  }
 ],
 "metadata": {
  "kernelspec": {
   "display_name": "Python 3",
   "language": "python",
   "name": "python3"
  },
  "language_info": {
   "codemirror_mode": {
    "name": "ipython",
    "version": 3
   },
   "file_extension": ".py",
   "mimetype": "text/x-python",
   "name": "python",
   "nbconvert_exporter": "python",
   "pygments_lexer": "ipython3",
   "version": "3.8.10"
  },
  "orig_nbformat": 4,
  "vscode": {
   "interpreter": {
    "hash": "767d51c1340bd893661ea55ea3124f6de3c7a262a8b4abca0554b478b1e2ff90"
   }
  }
 },
 "nbformat": 4,
 "nbformat_minor": 2
}
