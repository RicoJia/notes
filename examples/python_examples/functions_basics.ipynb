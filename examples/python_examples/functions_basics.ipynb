{
 "cells": [
  {
   "attachments": {},
   "cell_type": "markdown",
   "metadata": {},
   "source": [
    "## Basics"
   ]
  },
  {
   "cell_type": "code",
   "execution_count": 3,
   "metadata": {},
   "outputs": [
    {
     "name": "stdout",
     "output_type": "stream",
     "text": [
      "True\n",
      "Lambda can capture values, but they're again references bound at runtime:  320  see 320 instead of 30\n",
      "If you want to store value of lambda, store it. See 30 instead of 320\n"
     ]
    }
   ],
   "source": [
    "def test_lambda(): \n",
    "    # 1 Interesting way to call a lambda\n",
    "    print((lambda x: x > 10)(11))\n",
    "\n",
    "    # 2 \n",
    "    x = 10\n",
    "    lam = lambda y: y+x\n",
    "    x = 300\n",
    "    print(\"Lambda can capture values, but they're again references bound at runtime: \", lam(20), \" see 320 instead of 30\")\n",
    "\n",
    "    # 3\n",
    "    x = 10\n",
    "    lam  = lambda y, x = x: y+x\n",
    "    x = 300\n",
    "    print(f\"If you want to store value of lambda, store it. See {lam(20)} instead of 320\")\n",
    "\n",
    "test_lambda()"
   ]
  },
  {
   "cell_type": "code",
   "execution_count": 4,
   "metadata": {},
   "outputs": [
    {
     "name": "stdout",
     "output_type": "stream",
     "text": [
      "inner scope\n",
      "another inner scope\n",
      "[]\n"
     ]
    }
   ],
   "source": [
    "global_var = \"global\"\n",
    "def test_scope():\n",
    "    \"\"\"\n",
    "    1. The outer function variables are by-default read only. If you declare a variable locally without nonlocal or global, then that will be a local variable, nothing to do with the outer one\n",
    "        - When we use =, that is to assign the NAME of an object a new object. And that is not allowed without nonlocal/global \n",
    "        - If else... doesn't count as a \"new scope\", since it's checked only at run time. \n",
    "        - A function can get the variable of the closest upper scope. This is called \"lexical scoping\", > 40 yrs. \n",
    "    2. We can modify a outside mutable WITHOUT nonlocal \n",
    "        - e.g., ls.append() that is to modify the object itself\n",
    "    \"\"\"\n",
    "    some_var = \"test_scope\"\n",
    "    ls_cp = []\n",
    "    def worker():\n",
    "        # nonlocal is needed here\n",
    "        global global_var\n",
    "        global_var = \"inner scope\"\n",
    "        nonlocal some_var \n",
    "        some_var = \"another inner scope\"\n",
    "        ls_cp = [123]\n",
    "    worker()\n",
    "    print(global_var)\n",
    "    print(some_var)\n",
    "    print(ls_cp)\n",
    "test_scope()"
   ]
  },
  {
   "cell_type": "code",
   "execution_count": 5,
   "metadata": {},
   "outputs": [
    {
     "name": "stdout",
     "output_type": "stream",
     "text": [
      "800\n",
      "foo\n"
     ]
    }
   ],
   "source": [
    "def attr_test():\n",
    "    class foo: \n",
    "        pass\n",
    "    f = foo()\n",
    "    # if the class is from object, then attributes can be added this way\n",
    "    f.temperature = 800\n",
    "    print(f.temperature)\n",
    "    print(f.__class__.__name__)\n",
    "attr_test()"
   ]
  },
  {
   "attachments": {},
   "cell_type": "markdown",
   "metadata": {},
   "source": [
    "## Common Tools"
   ]
  },
  {
   "cell_type": "code",
   "execution_count": 6,
   "metadata": {},
   "outputs": [],
   "source": [
    "def test_partial():\n",
    "    \"\"\"\n",
    "    1. How it works: (apart from kwargs support). partial is returning a wrapper with extended args\n",
    "    2. equivalent implementation\n",
    "    \"\"\"\n",
    "    # 1 partial - we just need to bind the function with any keyworded args\n",
    "    from functools import partial\n",
    "    def func(a, b): \n",
    "        print(\"func: \", a, b)\n",
    "    func_w = partial(func, b = 12)\n",
    "    func_w(a = 13)\n",
    "\n",
    "    def rico_partial(func, *args, **kwargs):\n",
    "        # simplified version\n",
    "        # def wrapper(a): \n",
    "        #     # kwargs here is a dict, need to unpack it\n",
    "        #     return func(a, **kwargs)\n",
    "        # return wrapper\n",
    "        def wrapper(*extra_args, **extra_kwargs):\n",
    "            # need nonlocal since we are reusing args, and kwargs, which will be true local vars\n",
    "            nonlocal args, kwargs\n",
    "            # args here is a tuple already\n",
    "            args = list(args)\n",
    "            args.extend(extra_args)\n",
    "            kwargs = {**kwargs, **extra_kwargs}\n",
    "            return func(*args, **kwargs)\n",
    "        return wrapper\n",
    "    rico_func_w = rico_partial(func, b = 12)\n",
    "    rico_func_w(a=13)\n"
   ]
  },
  {
   "attachments": {},
   "cell_type": "markdown",
   "metadata": {},
   "source": [
    "## Less well-known tricks"
   ]
  },
  {
   "cell_type": "code",
   "execution_count": 7,
   "metadata": {},
   "outputs": [],
   "source": [
    "def get_current_funcs_info():\n",
    "    \"\"\"\n",
    "    1. func name: {sys._getframe(0).f_code.co_name}, file name: {__file__}, line number: {sys._getframe(0).f_lineno}\n",
    "    2. all params: {sys._getframe(0).f_locals}\n",
    "    \"\"\"\n",
    "    def dummy_method():\n",
    "        pass\n",
    "    import sys\n",
    "    print(f\"func name: {sys._getframe(0).f_code.co_name}, file name: {__file__}, line number: {sys._getframe(0).f_lineno}\")\n",
    "    print(f\"all params: {sys._getframe(0).f_locals}\")\n"
   ]
  }
 ],
 "metadata": {
  "kernelspec": {
   "display_name": "Python 3",
   "language": "python",
   "name": "python3"
  },
  "language_info": {
   "codemirror_mode": {
    "name": "ipython",
    "version": 3
   },
   "file_extension": ".py",
   "mimetype": "text/x-python",
   "name": "python",
   "nbconvert_exporter": "python",
   "pygments_lexer": "ipython3",
   "version": "3.8.10"
  },
  "orig_nbformat": 4,
  "vscode": {
   "interpreter": {
    "hash": "767d51c1340bd893661ea55ea3124f6de3c7a262a8b4abca0554b478b1e2ff90"
   }
  }
 },
 "nbformat": 4,
 "nbformat_minor": 2
}
