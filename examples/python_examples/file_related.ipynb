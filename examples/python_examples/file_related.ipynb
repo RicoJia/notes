{
 "cells": [
  {
   "cell_type": "code",
   "execution_count": null,
   "metadata": {},
   "outputs": [],
   "source": [
    "def zip_file_related(): \n",
    "    from zipfile import ZipFile\n",
    "    file_name = \"mi_archivo.zip\"\n",
    "    hello_file = \"hello.txt\"\n",
    "    with ZipFile(file_name, 'w') as f: \n",
    "        f.writestr(hello_file, \"hello\".encode(\"utf-8\"))\n",
    "        f.close()\n",
    "\n",
    "    # append another file\n",
    "    another_file = \"another_file.txt\"\n",
    "    with ZipFile(file_name, 'a') as f: \n",
    "        f.writestr(another_file, \"another file~!!!\")\n",
    "        f.close()\n",
    "\n",
    "    # print all info and zip content\n",
    "    with ZipFile(file_name, 'r') as f: \n",
    "        for info in f.infolist(): \n",
    "            if (info.filename == hello_file): \n",
    "                another_hello_file_content = f.read(hello_file)\n",
    "        f.close()\n",
    "\n",
    "    # append a file in the zip under another name. Just append, not removing\n",
    "    another_hello_file = \"another_hello_file.txt\"\n",
    "    with ZipFile(file_name, 'w') as f:\n",
    "        f.writestr(another_hello_file, another_hello_file_content)\n",
    "        f.close()\n",
    "\n",
    "\n",
    "    def print_zip(file_name):\n",
    "        with ZipFile(file_name, 'r') as f: \n",
    "            for info in f.infolist(): \n",
    "                print(info.filename)\n",
    "                print(f.read(info.filename))\n",
    "            f.close()\n",
    "\n",
    "    # update just one file - we have to recompress and delete\n",
    "    import os\n",
    "    def update_one_file(src_name, target_name, replacement_content): \n",
    "        \"\"\"\n",
    "        Add or update target in a zip file with replacement_content\n",
    "        src_name: zip file to be updated\n",
    "        target_name: file inside src_name to be added/replaced\n",
    "        replacement_content: string to be substituted in\n",
    "        \"\"\"\n",
    "        tmp = src_name+\"tmp\"\n",
    "        with ZipFile(src_name, \"r\") as infile, ZipFile(tmp, \"w\") as outfile: \n",
    "            for info in infile.infolist(): \n",
    "                if info.filename != target_name: \n",
    "                    outfile.writestr(info.filename, infile.read(info.filename))\n",
    "                else: \n",
    "                    outfile.writestr(info.filename, replacement_content)\n",
    "            infile.close()\n",
    "            outfile.close()\n",
    "        os.remove(src_name)\n",
    "        # os.rename(old_name, new_name)\n",
    "        os.rename(tmp, src_name)\n",
    "\n",
    "    print(\"before updating\")\n",
    "    print_zip(file_name)\n",
    "    print(\"now let's update just one file\")\n",
    "    update_one_file(file_name, another_hello_file, \"around the world\")\n",
    "    print_zip(file_name)"
   ]
  },
  {
   "cell_type": "code",
   "execution_count": null,
   "metadata": {},
   "outputs": [],
   "source": [
    "def test_force_write():\n",
    "    import os\n",
    "    with open(\"/home/rjia/tmp_file\", \"w\") as f:\n",
    "        f.write(\"You!!!\")\n",
    "        os.fsync(f.fileno())"
   ]
  },
  {
   "cell_type": "code",
   "execution_count": null,
   "metadata": {},
   "outputs": [],
   "source": [
    "def os_basics(): \n",
    "    # TODO: to organize\n",
    "    import os\n",
    "    os.path.join(\"/path_a\", \"dir_without_/\")\n",
    "    os.chdir(persistence_folder)    #change directory to that file.\n",
    "    # check if dir exists, remove (remove dir has to use shutil.rmtree())\n",
    "    os.path.isdir(\"\")\n",
    "    if not os.path.exists('my_folder'):\n",
    "        os.remove(file_path)\n",
    "        os.makedirs('my_folder')\n",
    "        os.rmdir(dir_path)  # empty dir\n",
    "        shutil.rmtree(folder)   #folder and content\n",
    "\n",
    "    #write to file\n",
    "    with open(\"file.txt\", 'w') as file:   #open is a context manager\n",
    "       file.write(\"Hello World\")\n",
    "\n",
    "    # list all files, this is a list\n",
    "    os.listdir(path)\n",
    "    os.rename(name)"
   ]
  }
 ],
 "metadata": {
  "kernelspec": {
   "display_name": "Python 3",
   "language": "python",
   "name": "python3"
  },
  "language_info": {
   "name": "python",
   "version": "3.8.10 (default, Nov 14 2022, 12:59:47) \n[GCC 9.4.0]"
  },
  "orig_nbformat": 4,
  "vscode": {
   "interpreter": {
    "hash": "767d51c1340bd893661ea55ea3124f6de3c7a262a8b4abca0554b478b1e2ff90"
   }
  }
 },
 "nbformat": 4,
 "nbformat_minor": 2
}
