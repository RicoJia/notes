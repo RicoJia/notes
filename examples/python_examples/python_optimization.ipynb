{
 "cells": [
  {
   "attachments": {},
   "cell_type": "markdown",
   "metadata": {},
   "source": [
    "# Python Optimization\n",
    "Common Rules of Thumb:\n",
    "1. global variables are slower than local variables\n",
    "2. `import module; module.attribute()` is slower than `from module import attribute; attribute()`\n",
    "    - Because `module.attribute()` calls `__getattribute__()` or `__getattr__()`, which conducts dictionary lookups.\n",
    "3. Looking up `self.variable` is slower than local variables"
   ]
  },
  {
   "cell_type": "code",
   "execution_count": null,
   "metadata": {},
   "outputs": [],
   "source": [
    "def main():\n",
    "   local_variable_is_faster = 1 \n",
    "\n",
    "main()"
   ]
  },
  {
   "cell_type": "code",
   "execution_count": 6,
   "metadata": {},
   "outputs": [
    {
     "name": "stdout",
     "output_type": "stream",
     "text": [
      "4.47 ms ± 7.11 µs per loop (mean ± std. dev. of 7 runs, 100 loops each)\n",
      "2.96 ms ± 5.18 µs per loop (mean ± std. dev. of 7 runs, 100 loops each)\n",
      "2.98 ms ± 49.6 µs per loop (mean ± std. dev. of 7 runs, 100 loops each)\n"
     ]
    }
   ],
   "source": [
    "def compute_roots():\n",
    "    import math \n",
    "    for _ in range(100000):\n",
    "        math.sqrt(3)\n",
    "\n",
    "def compute_roots_faster():\n",
    "    from math import sqrt\n",
    "    for _ in range(100000):\n",
    "        sqrt(3)\n",
    "\n",
    "def compute_roots_faster_2():\n",
    "    import math\n",
    "    sqrt = math.sqrt\n",
    "    for _ in range(100000):\n",
    "        sqrt(3)\n",
    "\n",
    "%timeit compute_roots()\n",
    "%timeit compute_roots_faster()\n",
    "%timeit compute_roots_faster_2()"
   ]
  },
  {
   "cell_type": "code",
   "execution_count": 8,
   "metadata": {},
   "outputs": [
    {
     "name": "stdout",
     "output_type": "stream",
     "text": [
      "2.29 ms ± 12.1 µs per loop (mean ± std. dev. of 7 runs, 100 loops each)\n",
      "1.21 ms ± 6.91 µs per loop (mean ± std. dev. of 7 runs, 1,000 loops each)\n"
     ]
    }
   ],
   "source": [
    "class Foo:\n",
    "    def __init__(self):\n",
    "        self.some_large_variable = object()\n",
    "\n",
    "    def foo(self):\n",
    "        for _ in range(100000):\n",
    "            self.some_large_variable\n",
    "    def foo_faster(self):\n",
    "        some_large_variable = self.some_large_variable\n",
    "        for _ in range(100000):\n",
    "            some_large_variable\n",
    "f = Foo()\n",
    "%timeit f.foo()\n",
    "%timeit f.foo_faster()"
   ]
  },
  {
   "cell_type": "code",
   "execution_count": null,
   "metadata": {},
   "outputs": [],
   "source": []
  }
 ],
 "metadata": {
  "kernelspec": {
   "display_name": "Python 3",
   "language": "python",
   "name": "python3"
  },
  "language_info": {
   "codemirror_mode": {
    "name": "ipython",
    "version": 3
   },
   "file_extension": ".py",
   "mimetype": "text/x-python",
   "name": "python",
   "nbconvert_exporter": "python",
   "pygments_lexer": "ipython3",
   "version": "3.8.10"
  },
  "orig_nbformat": 4,
  "vscode": {
   "interpreter": {
    "hash": "767d51c1340bd893661ea55ea3124f6de3c7a262a8b4abca0554b478b1e2ff90"
   }
  }
 },
 "nbformat": 4,
 "nbformat_minor": 2
}
