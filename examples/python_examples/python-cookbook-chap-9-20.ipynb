{
 "cells": [
  {
   "cell_type": "code",
   "execution_count": 16,
   "metadata": {},
   "outputs": [
    {
     "name": "stdout",
     "output_type": "stream",
     "text": [
      "wrapped another decorator_arg\n",
      "foo\n"
     ]
    }
   ],
   "source": [
    "# 9 - 6 Optional Args in Decorator: \n",
    "from functools import wraps, partial\n",
    "def d(func=None, decorator_arg=\"dec\"):\n",
    "    if func is None: \n",
    "        return partial(d, decorator_arg=decorator_arg)\n",
    "    \n",
    "    @wraps(func)\n",
    "    def wrap(*args, **kwargs):\n",
    "        print(\"wrapped\", decorator_arg)\n",
    "        func(*args, **kwargs)\n",
    "    return wrap\n",
    "\n",
    "# when there's decorator_arg in decorator, then decoration becomes d(args)(func)\n",
    "# so we need a decorator without args, so we can do func = d(func). \n",
    "# partial does the trick\n",
    "@d(decorator_arg=\"another decorator_arg\")\n",
    "def foo(a, b=\"hello\"):\n",
    "    # You can print the current function's name\n",
    "    print(foo.__name__)\n",
    "# foo = d(foo, decorator_arg=\"another decorator_arg\")\n",
    "\n",
    "foo(2,3)"
   ]
  },
  {
   "cell_type": "code",
   "execution_count": 1,
   "metadata": {},
   "outputs": [
    {
     "name": "stdout",
     "output_type": "stream",
     "text": [
      "foo a:  1\n",
      "Type check error, for a,                       want: <class 'int'>, got 22.4\n"
     ]
    }
   ],
   "source": [
    "# 9 - 7 Type checking\n",
    "# 1 simple structure\n",
    "from functools import partial, wraps\n",
    "def type_check(*types):\n",
    "    def decorate(func):\n",
    "        @wraps(func)\n",
    "        def wrap(*args, **kwargs):\n",
    "            return func(*args, **kwargs)\n",
    "        return wrap\n",
    "    return decorate\n",
    "\n",
    "# So you can add layers on top of the decorator layer, so another way to add optional args\n",
    "@type_check()\n",
    "def foo(a, b=\"hello\"):\n",
    "    print(foo.__name__, \"a: \", a)\n",
    "\n",
    "foo(1)\n",
    "        \n",
    "# 2 type checking \n",
    "from inspect import signature \n",
    "# The mechanism is to bind function with their args signature. \n",
    "# So we can compare intended types as a partially bound signature, \n",
    "# Actual function as a fully bound signature \n",
    "def type_check(func, fully_bound_func, *desired_types):\n",
    "    sig = signature(func)\n",
    "    bound_types = sig.bind_partial(*desired_types).arguments\n",
    "    # sig.bind.arguments = OrderedDict([(arg_name, arg_val) ... ])\n",
    "    for arg_name, arg_value in fully_bound_func.arguments.items():\n",
    "        if arg_name in bound_types:\n",
    "            \n",
    "            if not isinstance(arg_value, bound_types[arg_name]):\n",
    "                print(f\"Type check error, for {arg_name}, \\\n",
    "                      want: {bound_types[arg_name]}, got {arg_value}\")\n",
    "\n",
    "\n",
    "# bool will be considered an int\n",
    "type_check(foo, signature(foo).bind(22.4), int)    \n"
   ]
  },
  {
   "cell_type": "code",
   "execution_count": 4,
   "metadata": {},
   "outputs": [
    {
     "name": "stdout",
     "output_type": "stream",
     "text": [
      "dec2: \n",
      "foo\n"
     ]
    }
   ],
   "source": [
    "# 9-8 Define Decorator as part of a class \n",
    "class Foo:\n",
    "    def dec1(self, func):\n",
    "        def wrapped(*args, **kwargs):\n",
    "            print(\"dec1: \")\n",
    "            func(*args, **kwargs)\n",
    "        return wrapped\n",
    "    \n",
    "    @staticmethod\n",
    "    def dec2(func):\n",
    "        def wrapped(*args, **kwargs):\n",
    "            print(\"dec2: \")\n",
    "            func(*args, **kwargs)\n",
    "        return wrapped\n",
    "    \n",
    "@Foo.dec2\n",
    "def foo(a, b):\n",
    "    print(\"foo\")\n",
    "\n",
    "foo(1,2)"
   ]
  },
  {
   "cell_type": "code",
   "execution_count": 11,
   "metadata": {},
   "outputs": [
    {
     "data": {
      "text/plain": [
       "'another attr not set'"
      ]
     },
     "execution_count": 11,
     "metadata": {},
     "output_type": "execute_result"
    }
   ],
   "source": [
    "# 9-9.1 Property \n",
    "class Foo:\n",
    "    @property\n",
    "    def rico(self):\n",
    "        try:\n",
    "            return self.val\n",
    "        except AttributeError:\n",
    "            return \"rico not set\"\n",
    "    @rico.setter\n",
    "    def rico(self, value):\n",
    "        self.val = value\n",
    "    \n",
    "    # A property decorator is to define a property object like this.\n",
    "    another_attr = property()\n",
    "    @another_attr.getter\n",
    "    def another_attr(self):\n",
    "        try:\n",
    "            return self.another_val\n",
    "        except AttributeError:\n",
    "            return \"another attr not set\"\n",
    "    \n",
    "    @another_attr.setter\n",
    "    def another_attr(self, value):\n",
    "        self.another_val = value\n",
    "\n",
    "f = Foo()\n",
    "f.rico = \"random val\"\n",
    "f.rico\n",
    "\n",
    "f.another_attr\n"
   ]
  },
  {
   "cell_type": "code",
   "execution_count": 26,
   "metadata": {},
   "outputs": [
    {
     "name": "stdout",
     "output_type": "stream",
     "text": [
      "hello spam\n"
     ]
    },
    {
     "data": {
      "text/plain": [
       "2"
      ]
     },
     "execution_count": 26,
     "metadata": {},
     "output_type": "execute_result"
    }
   ],
   "source": [
    "# 9-9 Decorator implemented as a class (Pre-cursor of descriptor)\n",
    "# Profiling Layer\n",
    "from functools import wraps\n",
    "\n",
    "class Profile:\n",
    "    def __init__(self, func):\n",
    "        wraps(func)(self)\n",
    "        self.ncalls = 0\n",
    "    def __call__(self, *args, **kwargs):\n",
    "        self.ncalls = self.ncalls + 1\n",
    "        return self.__wrapped__(*args, **kwargs)\n",
    "    def __get__(self, instance, cls):\n",
    "        if instance is None:\n",
    "            return self\n",
    "        else:\n",
    "            from types import MethodType\n",
    "            return MethodType(self, instance)\n",
    "    \n",
    "@Profile\n",
    "def some_func(a,b):\n",
    "    return a,b\n",
    "\n",
    "some_func(1,2)\n",
    "some_func(1,2)\n",
    "some_func(1,2)\n",
    "# see 3\n",
    "some_func.ncalls\n",
    "# Profile object, since it's been wrapped.\n",
    "type(some_func)\n",
    "\n",
    "class Spam:\n",
    "    spam_attr = \"hello spam\"\n",
    "    # methods in a class are function objects, and needs to be bound to an instance of Spam. \n",
    "    # This is achieved by calling spam.__get__(s, x). A descriptor protocol\n",
    "    # Since it's been wrapped as Profile object, Profile class needs __get__ as well.\n",
    "    # MethodType is to bind the function with the corresponding object\n",
    "    @Profile\n",
    "    def spam(self, x):\n",
    "        return x\n",
    "\n",
    "s = Spam()\n",
    "s.spam(2)\n",
    "\n",
    "# To illustrate __get__ : class calls its method's __get__ to bind\n",
    "def spam_outside_class(self,x):\n",
    "    print(self.spam_attr)\n",
    "    return x\n",
    "# This creates a bound function to Spam, and calls the function.\n",
    "spam_outside_class.__get__(s, Spam)(2)\n"
   ]
  },
  {
   "cell_type": "code",
   "execution_count": 29,
   "metadata": {},
   "outputs": [
    {
     "name": "stdout",
     "output_type": "stream",
     "text": [
      "wrapped\n"
     ]
    }
   ],
   "source": [
    "# 9 - 10 static method must wrap the decorated function, not the other way around \n",
    "def dec(func):\n",
    "    def wrapper(*args, **kwargs):\n",
    "        func(*args, **kwargs)\n",
    "    return wrapper\n",
    "\n",
    "class Foo:\n",
    "    @staticmethod\n",
    "    @dec\n",
    "    def foo():\n",
    "        print(foo.__name__)\n",
    "Foo.foo()"
   ]
  },
  {
   "cell_type": "code",
   "execution_count": 41,
   "metadata": {},
   "outputs": [
    {
     "name": "stdout",
     "output_type": "stream",
     "text": [
      "1 2\n",
      "debugging\n",
      "3 4\n",
      "new attribute\n",
      "spam\n",
      "new attribute\n"
     ]
    },
    {
     "data": {
      "text/plain": [
       "3"
      ]
     },
     "execution_count": 41,
     "metadata": {},
     "output_type": "execute_result"
    }
   ],
   "source": [
    "# 9 - 11 \n",
    "# Adding more args while not breaking the wrapped function signature\n",
    "def dec(func):\n",
    "    def wrapper(*args, debug = False, **kwargs):\n",
    "        if debug:\n",
    "            print(\"debugging\")\n",
    "        func(*args, **kwargs)\n",
    "    return wrapper\n",
    "\n",
    "@dec\n",
    "def some_func(a,b):\n",
    "    print(a,b)\n",
    "\n",
    "some_func(1,2)\n",
    "# We added another arg here!\n",
    "some_func(3,4, debug=True)\n",
    "\n",
    "# 9 - 12 patch a class function with class decorator\n",
    "def class_dec(cls):\n",
    "    original_getattribute = cls.__getattribute__\n",
    "    def new_getattribute(self, name):\n",
    "        print(\"new attribute\")\n",
    "        return original_getattribute(self, name)\n",
    "    cls.__getattribute__ = new_getattribute\n",
    "    return cls\n",
    "\n",
    "@class_dec\n",
    "class Foo:\n",
    "    bar = 1\n",
    "    def __init__(self) -> None:\n",
    "        self.baz = 3\n",
    "    def spam(self):\n",
    "        print(\"spam\")\n",
    "\n",
    "# now can see \"new attribute\"\n",
    "Foo().spam()\n",
    "# this is a class variable, but not going through __getattribute__\n",
    "# One big reason to use getattr is because we can supply a default value\n",
    "print(getattr(Foo, \"bar\", \"default string\"))\n",
    "print(getattr(Foo(), \"baz\", \"default string\"))"
   ]
  },
  {
   "cell_type": "code",
   "execution_count": null,
   "metadata": {},
   "outputs": [],
   "source": []
  },
  {
   "cell_type": "code",
   "execution_count": 1,
   "metadata": {},
   "outputs": [
    {
     "name": "stdout",
     "output_type": "stream",
     "text": [
      "foo\n",
      "No instances pls\n",
      "none\n",
      "args: (), kwargs: {}, cls:<class '__main__.Foo'>\n",
      "args: (), kwargs: {}, cls:<class '__main__.Foo'>\n"
     ]
    },
    {
     "data": {
      "text/plain": [
       "__main__.Foo"
      ]
     },
     "execution_count": 1,
     "metadata": {},
     "output_type": "execute_result"
    }
   ],
   "source": [
    "# 9 - 13 metaclass \n",
    "# Simple example 1\n",
    "from typing import Any\n",
    "# metaclass requires to be child class of type. Otherwise \"NoInstances() takes no arguments\" in metaclass declaration\n",
    "class NoInstances(type):\n",
    "    # So an instance of class NoInstances, the subsequent class, cannot be instantiated as it could be seen as a callable.\n",
    "    def __call__(self, *args: Any, **kwargs: Any): \n",
    "        raise TypeError(\"No instances pls\")\n",
    "\n",
    "class Spam(metaclass = NoInstances):\n",
    "    def __init__(self) -> None:\n",
    "       pass \n",
    "    \n",
    "    @staticmethod\n",
    "    def foo():\n",
    "        print(\"foo\")\n",
    "        \n",
    "    def __call__(self, *args: Any, **kwargs: Any): \n",
    "        print(\"yeehaw\")\n",
    "\n",
    "Spam.foo()\n",
    "\n",
    "try:\n",
    "    s = Spam()\n",
    "except TypeError as e:\n",
    "    print(e)\n",
    "\n",
    "# example 2\n",
    "class Singleton(type):\n",
    "    def __init__(cls, *args: Any, **kwargs: Any):\n",
    "        cls._instance = None\n",
    "\n",
    "    def __call__(cls, *args: Any, **kwargs: Any): \n",
    "        if cls._instance is None:\n",
    "            print(\"none\")\n",
    "            # super (class, object)\n",
    "            # = super(Singleton, cls).__call__(*args, *kwargs)\n",
    "            # = type(Singleton).__call__(cls,*args, **kwargs), which calls ctor of cls\n",
    "            cls._instance = super().__call__(*args, **kwargs)\n",
    "            \n",
    "        print(f\"args: {args}, kwargs: {kwargs}, cls:{cls}\")\n",
    "        return cls._instance\n",
    "\n",
    "class Foo(metaclass = Singleton):\n",
    "    pass\n",
    "\n",
    "f = Foo()\n",
    "f2 = Foo()\n",
    "type(f)"
   ]
  },
  {
   "cell_type": "code",
   "execution_count": 12,
   "metadata": {},
   "outputs": [
    {
     "name": "stdout",
     "output_type": "stream",
     "text": [
      "MM Prepare\n",
      "M's call ('klass', (), {'__module__': '__main__', '__qualname__': 'klass', '__init__': <function klass.__init__ at 0x7f12641b8310>}) {}\n",
      "MM __new__\n",
      "MM's call () {}\n",
      "klass initialized\n"
     ]
    },
    {
     "data": {
      "text/plain": [
       "<__main__.klass at 0x7f1264d46220>"
      ]
     },
     "execution_count": 12,
     "metadata": {},
     "output_type": "execute_result"
    }
   ],
   "source": [
    "# 9-14 seqeuence of calling: __prepare__ -> execution of the class body, to fill the dict with the attrs  \n",
    "# -> meta meta's __call__ -> __new__ -> __call__ -> __init__\n",
    "class M(type):\n",
    "    def __call__(mmcls, *args, **kwargs):\n",
    "        print(\"M's call\", args, kwargs)\n",
    "        return super().__call__(*args, **kwargs)\n",
    "\n",
    "class MM(type, metaclass=M):\n",
    "    def __prepare__(cls, *args, **kw):\n",
    "        print(\"MM Prepare\")\n",
    "        return {}\n",
    "    def __new__(mcls, *args, **kw):\n",
    "        print(\"MM __new__\")\n",
    "        return super().__new__(mcls, *args, **kw)\n",
    "    def __call__(mmcls, *args, **kwargs):\n",
    "        print(\"MM's call\", args, kwargs)\n",
    "        return super().__call__(*args, **kwargs)\n",
    "\n",
    "class klass(metaclass=MM):\n",
    "    def __init__(self) -> None:\n",
    "        print(f\"{self.__class__.__name__} initialized\")\n",
    "\n",
    "klass()"
   ]
  },
  {
   "cell_type": "code",
   "execution_count": 35,
   "metadata": {},
   "outputs": [
    {
     "name": "stdout",
     "output_type": "stream",
     "text": [
      "cls:  <class '__main__.Meta'>  bases:  ()\n",
      "d: {'__module__': '__main__', '__qualname__': 'Foo', 'lol_2': 3, 'lol': 0, '__init__': <function Foo.__init__ at 0x7f127414c670>, '_order': ['__module__', '__qualname__', 'lol_2', 'lol', '__init__']}\n",
      "Foo\n"
     ]
    },
    {
     "data": {
      "text/plain": [
       "['__module__', '__qualname__', 'lol_2', 'lol', '__init__']"
      ]
     },
     "execution_count": 35,
     "metadata": {},
     "output_type": "execute_result"
    }
   ],
   "source": [
    "# 9 - 14 Get order of initialization\n",
    "from collections import OrderedDict\n",
    "class Meta(type):\n",
    "    @classmethod\n",
    "    def __prepare__(cls, clsname, bases):\n",
    "        # cls is Meta\n",
    "        print(\"cls: \", cls, \" bases: \", bases)\n",
    "        return OrderedDict()\n",
    "    def __new__(cls, clsname, bases, clsdict):\n",
    "        # converting clsdict back to Dict.\n",
    "        d = dict(clsdict)\n",
    "        # adding an item in dict from prepare will actually become a new attribute in the function!\n",
    "        # methods, class variables will go into clsdict (will be available at new), while regular instance attributes won't \n",
    "        d[\"_order\"] = [k for k, _ in clsdict.items()]\n",
    "        #TODO\n",
    "        print(f'd: {d}')\n",
    "        # Equivalent to\n",
    "        # return super().__new__(cls, clsname, bases, d)\n",
    "        return type.__new__(cls, clsname, bases, d)\n",
    "        \n",
    "class Foo(metaclass = Meta):\n",
    "    lol_2 = 3\n",
    "    lol = 0\n",
    "    def __init__(self):\n",
    "        self.lol = 1\n",
    "        print(self.__class__.__name__)\n",
    "Foo()._order"
   ]
  },
  {
   "cell_type": "code",
   "execution_count": 43,
   "metadata": {},
   "outputs": [
    {
     "name": "stdout",
     "output_type": "stream",
     "text": [
      "__prepare__\n",
      "__new__\n",
      "Foo\n"
     ]
    },
    {
     "data": {
      "text/plain": [
       "<__main__.Foo at 0x7f124fff3fd0>"
      ]
     },
     "execution_count": 43,
     "metadata": {},
     "output_type": "execute_result"
    }
   ],
   "source": [
    "# 9 - 15: This is to control certain behaviors when a class is created. \n",
    "# Requires all 3 functions to have the arg. \n",
    "# Another alternative is to pass in a class var in Foo (see 9 - 14), but that'd be available at new and after.\n",
    "class Meta(type):\n",
    "    @classmethod\n",
    "    def __prepare__(cls, clsname, bases, debug = False):\n",
    "        if debug:\n",
    "            print(\"__prepare__\")\n",
    "        return super().__prepare__(clsname, bases)\n",
    "\n",
    "    def __new__(cls, name, bases, clsdict, debug = False):\n",
    "        if debug:\n",
    "            print(\"__new__\")\n",
    "        return super().__new__(cls, name, bases, clsdict)\n",
    "    \n",
    "    def __init__(self, name, bases, ns, debug = False):\n",
    "        return super().__init__(name, bases, ns)\n",
    "\n",
    "# Now you now here you add args for metaclass to control class creation behaviors\n",
    "class Foo(metaclass = Meta, debug = True):\n",
    "    # another alternative is in __new__, read the class var.\n",
    "    # debug = True\n",
    "    def __init__(self):\n",
    "        print(\"Foo\")\n",
    "\n",
    "Foo()"
   ]
  },
  {
   "cell_type": "code",
   "execution_count": 68,
   "metadata": {},
   "outputs": [
    {
     "data": {
      "text/plain": [
       "<__main__.Stock at 0x7f124f224ac0>"
      ]
     },
     "execution_count": 68,
     "metadata": {},
     "output_type": "execute_result"
    }
   ],
   "source": [
    "# 9 - 16, do signature check \n",
    "# Simple example\n",
    "from inspect import Signature, Parameter \n",
    "def make_sig(*args):\n",
    "    params = [Parameter(name,Parameter.POSITIONAL_OR_KEYWORD) for name in args]\n",
    "    return Signature(params)\n",
    "def foo(*args, **kwargs):\n",
    "    signature = make_sig(\"x\", \"y\", \"z\")\n",
    "    # Because we are using bind instead of bind_partial, args, kwargs must be strings EXACTLY the same as the signature.\n",
    "    bounded_vals=  signature.bind(*args, **kwargs)\n",
    "\n",
    "# Too many args\n",
    "# foo(1,2,5,6)\n",
    "foo(1,2,3)\n",
    "\n",
    "# More practical example - Structure with common structure of things\n",
    "class Structure:\n",
    "    _fields = []\n",
    "    def __init__(self, *args, **kwargs):\n",
    "        __sigs__ =  make_sig(*self._fields)\n",
    "        bounded_vals = __sigs__.bind(*args, **kwargs)\n",
    "        for name, val in bounded_vals.arguments.items():\n",
    "            setattr(self, name, val)\n",
    "\n",
    "class Stock(Structure):\n",
    "    _fields = [\"x\", \"y\"]\n",
    "    \n",
    "Stock(x=1,y=2)\n",
    "    "
   ]
  },
  {
   "cell_type": "code",
   "execution_count": 90,
   "metadata": {},
   "outputs": [
    {
     "name": "stdout",
     "output_type": "stream",
     "text": [
      "5\n",
      "__prepare__\n",
      "__new__\n",
      "Can't instantiate abstract class MySequence with abstract methods bar\n"
     ]
    }
   ],
   "source": [
    "# 9 - 18 Manually assemble a class \n",
    "class Foo:\n",
    "    def __init__(self,a, b):\n",
    "        self.a = a\n",
    "        self.b = b\n",
    "\n",
    "    def cost(self):\n",
    "        return self.a + self.b\n",
    "cls_dict = {\n",
    "    \"__init__\": Foo.__init__, \n",
    "    \"cost\": Foo.cost,\n",
    "}\n",
    "\n",
    "import types\n",
    "FooEquivalent = types.new_class(\"FooEquivalent\", (), {}, lambda ns: ns.update(cls_dict))\n",
    "# __module__ is used in __repr__, or pickling\n",
    "FooEquivalent.__module__ = __name__\n",
    "f_e = FooEquivalent(2,3)\n",
    "print(f_e.cost())\n",
    "\n",
    "# Example 2, metaclass, args to class\n",
    "class FakeMeta(type):\n",
    "    @classmethod\n",
    "    def __prepare__(cls, clsname, bases, debug = False):\n",
    "        if debug:\n",
    "            print(\"__prepare__\")\n",
    "        return super().__prepare__(clsname, bases)\n",
    "\n",
    "    def __new__(cls, name, bases, clsdict, debug = False):\n",
    "        if debug:\n",
    "            print(\"__new__\")\n",
    "        return super().__new__(cls, name, bases, clsdict)\n",
    "    \n",
    "    def __init__(self, name, bases, ns, debug = False):\n",
    "        return super().__init__(name, bases, ns)\n",
    "# second is the baseclasses\n",
    "FooABC = types.new_class(\"FooABC\", (), {'metaclass': FakeMeta, 'debug': True}, lambda ns: ns.update(cls_dict))\n",
    "FooABC(1,2)\n",
    "# You can still instantiate an abstract base class, but not if it has abstractmethod.\n",
    "from abc import ABCMeta,abstractmethod\n",
    "class MySequence(metaclass=ABCMeta):\n",
    "    @abstractmethod\n",
    "    def bar(self):\n",
    "        pass\n",
    "try: \n",
    "    m = MySequence()\n",
    "except TypeError as e:\n",
    "    print(e)\n"
   ]
  },
  {
   "cell_type": "code",
   "execution_count": 126,
   "metadata": {},
   "outputs": [
    {
     "name": "stdout",
     "output_type": "stream",
     "text": [
      "can't set attribute\n",
      "{'x': <property object at 0x7f124ed239f0>, 'y': <property object at 0x7f124ed23900>, 'z': <property object at 0x7f124ed239a0>, '__new__': <function named_tuple.<locals>.__new__ at 0x7f124ee76a60>}\n"
     ]
    },
    {
     "data": {
      "text/plain": [
       "3"
      ]
     },
     "execution_count": 126,
     "metadata": {},
     "output_type": "execute_result"
    }
   ],
   "source": [
    "# 9 - 18 named tuple and equivalent \n",
    "import collections\n",
    "Point = collections.namedtuple(\"Point\", [\"x\", \"y\", \"z\"])\n",
    "p1 = Point(x = 1, y = 2, z = 3)\n",
    "# Can't set attribute to namedtuple after initialization\n",
    "try: \n",
    "    p1.x = 4\n",
    "except AttributeError as e:\n",
    "    print(e)\n",
    "\n",
    "import operator\n",
    "import types\n",
    "import sys\n",
    "def named_tuple(class_name, fields):\n",
    "    # populate list of attrs to class_dict: field property accessors? \n",
    "    # property turns the function into a property\n",
    "    class_dict = {name: property(operator.itemgetter(n)) for n, name in enumerate(fields)}\n",
    "    \n",
    "    # Not sure why we need a __new__ function here? \n",
    "    # Because tuple doesn't have __init__, since it's already too late to change values there.\n",
    "    # __new__ (create object)-> __init__ (initialize attrbs)\n",
    "    def __new__(cls, *args):\n",
    "        return tuple.__new__(cls, args)\n",
    "    class_dict['__new__'] = __new__\n",
    "    \n",
    "    print(class_dict)\n",
    "    cls = types.new_class(class_name, (tuple, ), {}, lambda ns: ns.update(class_dict))\n",
    "    # the frame hack\n",
    "    cls.__module__ = sys._getframe(1).f_globals['__name__']\n",
    "    return cls \n",
    "PointEquivalent = named_tuple(\"PointEquivalent\", [\"x\", \"y\", \"z\"])\n",
    "p2=PointEquivalent(1,2,3)\n",
    "print(p2.z)\n",
    "# It's a tuple under the hood anyway\n",
    "len(p2)"
   ]
  },
  {
   "cell_type": "code",
   "execution_count": 129,
   "metadata": {},
   "outputs": [
    {
     "data": {
      "text/plain": [
       "3"
      ]
     },
     "execution_count": 129,
     "metadata": {},
     "output_type": "execute_result"
    }
   ],
   "source": [
    "# itemgetter(n): operator is a built in module. \n",
    "# itemgetter(n) returns a callable that gets nth element of a list like object\n",
    "f = operator.itemgetter(2)\n",
    "# see 3. \n",
    "f((1,2,3))"
   ]
  },
  {
   "cell_type": "code",
   "execution_count": 1,
   "metadata": {},
   "outputs": [
    {
     "data": {
      "text/plain": [
       "1"
      ]
     },
     "execution_count": 1,
     "metadata": {},
     "output_type": "execute_result"
    }
   ],
   "source": [
    "def getter(self):\n",
    "    print(self, self[0])\n",
    "    return \"lol\"\n",
    "\n",
    "import operator\n",
    "class StructTupleMeta(type):\n",
    "    def __init__(cls, *args, **kwargs):\n",
    "        # Not sure why we don't need cls in __init__?\n",
    "        super().__init__(*args, **kwargs)\n",
    "        for n, name in enumerate(cls._fields):\n",
    "            # setattr(cls, name, property(getter))\n",
    "            # This is a very advanced technique. you pass in getter into property(getter), \n",
    "            # Then when you call Point.x, it calls getter(self). \n",
    "            # self, is actually the tuple object. you can even do self[0]\n",
    "            # same as operator.itemgetter(0)(self).  \n",
    "            setattr(cls, name, property(operator.itemgetter(n)))\n",
    "\n",
    "\n",
    "class StructTuple(tuple, metaclass=StructTupleMeta):\n",
    "     _fields = []\n",
    "     def __new__(cls, *args):\n",
    "         if len(args) != len(cls._fields):\n",
    "             raise ValueError(f\"{len(cls._fields)} args required\")\n",
    "         return super().__new__(cls, args)\n",
    "\n",
    "class Point(StructTuple):\n",
    "    _fields = [\"x\", \"y\"]\n",
    "\n",
    "p = Point(1,2)\n",
    "p.x\n",
    "\n",
    "# meta __init__ -> __new__"
   ]
  },
  {
   "cell_type": "code",
   "execution_count": 6,
   "metadata": {},
   "outputs": [
    {
     "name": "stdout",
     "output_type": "stream",
     "text": [
      "5 5 5\n"
     ]
    }
   ],
   "source": [
    "# cached_property: just like @property, but is executed only once\n",
    "from functools import cached_property\n",
    "class Foo:\n",
    "    a = 0\n",
    "    @cached_property\n",
    "    # @property\n",
    "    def some_property(self):\n",
    "        self.a += 5\n",
    "        return self.a \n",
    "f = Foo()\n",
    "# See 5, 10, 15 for @property\n",
    "# See 5, 5, 5 for @cached_property\n",
    "print(f.some_property, f.some_property, f.some_property)"
   ]
  },
  {
   "cell_type": "code",
   "execution_count": 12,
   "metadata": {},
   "outputs": [
    {
     "name": "stdout",
     "output_type": "stream",
     "text": [
      "2\n",
      "exec doesn't have access to func vars\n",
      "3\n",
      "after exec, loc copy:  5\n",
      "0\n"
     ]
    }
   ],
   "source": [
    "# 9 - 23, exec and global variables\n",
    "a = 1\n",
    "exec('b = a+1')\n",
    "# exec can access and return global variables\n",
    "print(b)\n",
    "\n",
    "def foo():\n",
    "    c = 2\n",
    "    try: \n",
    "        # exec are accessing a COPY of the local variables. So d is stored in the copy, \n",
    "        # not in the actual local copy\n",
    "        exec('d = c+1')\n",
    "        print(d)\n",
    "    except NameError:\n",
    "        print(\"exec doesn't have access to func vars\")\n",
    "        \n",
    "    # Solution 1 - recommended: pass in a custom dictionary of variables\n",
    "    loc = {\"c\" : 2}\n",
    "    e = 0\n",
    "    glb = {}\n",
    "    exec('d = c+1', glb, loc)\n",
    "    print(loc['d'])\n",
    "    \n",
    "    # Solution 2 - not recommended, use local() to access the copy passed into exec\n",
    "    # Not recommended because each time you call local(), \n",
    "    # The copy will be updated by the current local variable values.\n",
    "    loc = locals()\n",
    "    exec('e = c+3')\n",
    "    # Here see 5\n",
    "    print(\"after exec, loc copy: \", loc[\"e\"]) \n",
    "    locals()\n",
    "    # Now see 0. \n",
    "    print(loc[\"e\"])\n",
    "            \n",
    "\n",
    "foo()"
   ]
  },
  {
   "cell_type": "code",
   "execution_count": 1,
   "metadata": {},
   "outputs": [
    {
     "name": "stdout",
     "output_type": "stream",
     "text": [
      "{'a': 1, 'b': 2}\n",
      "True\n",
      "get_item, key:  __name__\n",
      "('__module__', 1) val:  __main__\n",
      "('__qualname__', 1) val:  Spam\n",
      "('s', 1) val:  <function Spam.s at 0x7f71de99ddc0>\n"
     ]
    }
   ],
   "source": [
    "# 9 - 20 - Function overriding with different types \n",
    "# 1 Child class to Parent class (upcast) is unconditional\n",
    "class Foo:\n",
    "    def __init__(self, a):\n",
    "        self.a = a \n",
    "class Foo2(Foo):\n",
    "    def __init__(self, a, b):\n",
    "        super().__init__(a)\n",
    "        self.b = b\n",
    "f2 = Foo2(1,2)\n",
    "print(vars(f2))\n",
    "print(isinstance(f2, Foo))\n",
    "\n",
    "# Failed attempt 1\n",
    "# class -> meta that has MultiDict as clsdict. ->\n",
    "# MultiDict will store {(type, func_name): method}\n",
    "class MultiDict(dict):\n",
    "     def __setitem__(self, key , value ) -> None:\n",
    "         # We must store string, not tuples because when class gets created, \n",
    "         # names in string are compared. But the modified names are \n",
    "         # already stored in the class.\n",
    "         # Failure Reason: therefore, we must store the same key \n",
    "         new_key = str((key, 1))\n",
    "         print(new_key, \"val: \", value)\n",
    "         super().__setitem__(new_key, value)\n",
    "     def __getitem__(self, key):\n",
    "        print(\"get_item, key: \", key)\n",
    "        return super().__getitem__((key, 1)) \n",
    "\n",
    "class Meta(type):\n",
    "    @classmethod\n",
    "    def __prepare__(cls, clsname, bases):\n",
    "        return MultiDict()\n",
    "\n",
    "    # def __new__(cls, clsname, bases, clsdict):\n",
    "    #     return \n",
    "class Spam(metaclass = Meta):\n",
    "    def s(self, a):\n",
    "        self.a = a\n",
    "sp = Spam()\n",
    "try: \n",
    "    sp.s(1)\n",
    "except AttributeError:\n",
    "    pass\n",
    "\n",
    "\n"
   ]
  },
  {
   "cell_type": "code",
   "execution_count": null,
   "metadata": {},
   "outputs": [],
   "source": []
  },
  {
   "cell_type": "code",
   "execution_count": 105,
   "metadata": {},
   "outputs": [
    {
     "name": "stdout",
     "output_type": "stream",
     "text": [
      "registered type:  []\n",
      "registered type:  [<class 'int'>]\n",
      "registered type:  [<class 'int'>, <class 'float'>]\n",
      "self: <class '__main__.TypeMethodRegistry'>, instance: <class '__main__.Spam'>\n",
      "Spam is in the args since we have bound this TypeMethodRegistry object to it in __get__:  (<__main__.Spam object at 0x7f71dcf21b50>,)\n",
      "So we can pass Spam, and other args to the actual function\n",
      "s1\n",
      "self: <class '__main__.TypeMethodRegistry'>, instance: <class '__main__.Spam'>\n",
      "Spam is in the args since we have bound this TypeMethodRegistry object to it in __get__:  (<__main__.Spam object at 0x7f71dcf21b50>, 1)\n",
      "So we can pass Spam, and other args to the actual function\n",
      "hello\n"
     ]
    }
   ],
   "source": [
    "# 9 - 20 - CROWN JEWEL OF CHAP 9: Function overriding with different types \n",
    "# inspect.signature(func)->parameters->name, annotation\n",
    "import inspect\n",
    "class TypeMethodRegistry:\n",
    "    def __init__(self):\n",
    "        # registry to store different functions under the same name based on their arg list \n",
    "        self.registry = {}\n",
    "        \n",
    "    def register(self, method):\n",
    "        '''\n",
    "        Function takes care of storing functions based on their types\n",
    "        '''\n",
    "        # signature has parameters, you have to get their annotations manually\n",
    "        func_type = []\n",
    "        # we don't want self, because in signature, the first annotation's type is Meta, \n",
    "        # which does not have __eq__ for comparison\n",
    "        for param in inspect.signature(method).parameters.values():\n",
    "            if param.name not in (\"cls\", \"self\"):\n",
    "                func_type.append(param.annotation)\n",
    "        print(\"registered type: \", func_type)\n",
    "        # need to hash the list\n",
    "        self.registry[tuple(func_type)] = method\n",
    "        \n",
    "    def __call__(self, *args, **kwds):\n",
    "        '''\n",
    "        Function returns the right function based on its types\n",
    "        self is TypeMethodRegistry, but args will contain the actual instance (Spam)\n",
    "        '''\n",
    "        # args will be the values of the arguments directly, including self (which has been bound)\n",
    "        # Not supporting kwargs, because we need the ORDER of arguments\n",
    "        arg_types = []\n",
    "        arg_types = tuple([type(arg) for arg in args[1:]])\n",
    "\n",
    "        if arg_types in self.registry.keys(): \n",
    "            print(\"Spam is in the args since we have bound this TypeMethodRegistry object to it in __get__: \", args)\n",
    "            print(\"So we can pass Spam, and other args to the actual function\")\n",
    "            return self.registry[arg_types](*args)\n",
    "        else:\n",
    "            raise AttributeError(f\"Function argument annotations {arg_types} are not found in functions with the same name\", \n",
    "                                 f\" {self.registry.keys()}\")\n",
    "        \n",
    "\n",
    "    def __get__(self, instance, cls):\n",
    "        '''\n",
    "        When we call a function of an instance/ class, we call the function's __get__. \n",
    "        Then we bound the function to the instance\n",
    "        In this case, we are using MultiDict, which directly returns TypeMethodRegistry object,\n",
    "        Which further returns the right function. We need to bind the TypeMethodRegistry to the right \n",
    "        instance \n",
    "        '''\n",
    "        \n",
    "        # cls is always not None\n",
    "        if instance is None:\n",
    "            return self\n",
    "        else:\n",
    "            from types import MethodType\n",
    "            print(f\"self: {type(self)}, instance: {type(instance)}\")\n",
    "            return MethodType(self, instance)\n",
    "        \n",
    "        \n",
    "class MultiDict(dict):\n",
    "    '''\n",
    "    Dict-like object that __prepare__() returns.\n",
    "    keys are module/ function names\n",
    "    values are strings (module) or methods\n",
    "    '''\n",
    "    # Overriding dictionary method.\n",
    "    def __setitem__(self, method_name, method_or_str) -> None:\n",
    "        '''\n",
    "        We check if we already have the method / module name\n",
    "        [TAKEAWAY]: You can use try, but in Python dict.__setitem__, you can check by \n",
    "        if method in self.\n",
    "        '''\n",
    "        if method_name in self:\n",
    "        # try:\n",
    "            registry = super().__getitem__(method_name)\n",
    "            registry.register(method_or_str)\n",
    "        else:\n",
    "        # except KeyError as e:\n",
    "            # because the dict __prepare__ receives things like {\"module\": \"__main__\"}        \n",
    "            if callable(method_or_str):\n",
    "                method = method_or_str\n",
    "                registry = TypeMethodRegistry()\n",
    "                registry.register(method)\n",
    "            else:\n",
    "                registry = method_or_str\n",
    "            super().__setitem__(method_name, registry)\n",
    "        \n",
    "    \n",
    "class Meta(type):\n",
    "    '''\n",
    "    Meta's {\"func_name\": TypeMethodRegistry([method1, method2 ...])} -> Instances (Spam)\n",
    "    '''\n",
    "    @classmethod\n",
    "    def __prepare__(cls, clsname, bases):\n",
    "        # Have to return a dictionary, with (key, val)\n",
    "        # In this case, key is function name, val is the method itself \n",
    "        return MultiDict()\n",
    "    \n",
    "    \n",
    "class Spam(metaclass = Meta):\n",
    "    def s(self: Spam):\n",
    "        print(\"s1\")\n",
    "    def s(self: Spam, a:int):\n",
    "        self.a = a\n",
    "        print(\"hello\")\n",
    "    def s(self, a:int, b: float):\n",
    "        self.a = a\n",
    "        print(self.s.__name__)\n",
    "sp = Spam()\n",
    "sp.s()\n",
    "\n",
    "# So now s() is a class variable, which calls __get__(instance, cls) (Descriptor Protocal for all class variables)\n",
    "# To get a bound function \n",
    "sp.s(1)\n"
   ]
  },
  {
   "cell_type": "code",
   "execution_count": 34,
   "metadata": {},
   "outputs": [
    {
     "name": "stdout",
     "output_type": "stream",
     "text": [
      "None\n",
      "call: args key (<class 'int'>, <class 'int'>)  registry:  {(<class 'int'>, <class 'int'>): <function Spam.f at 0x7fcdbd6df670>}\n",
      "f1\n"
     ]
    }
   ],
   "source": [
    "# 9 - 20 - 3 \n",
    "# Function Overloading using decorator \n",
    "# Key Technique: use descriptor as a decorator. \n",
    "# See advanced_oop.py -> FooDescriptor for usage\n",
    "import inspect\n",
    "class multidictdescriptor:\n",
    "    def __init__(self, default_func):\n",
    "        # Step 1 - In descriptor, just need __init__ to store the function\n",
    "        # Then multidictdescriptor instance replaces the function, as a proxy\n",
    "        # So later, in the class, we can call f.match\n",
    "        self.default_func = default_func\n",
    "        self.registry = {}\n",
    "         \n",
    "    def __call__(self, *args, **kwargs):\n",
    "        # Step 3 - now multidictdescriptor as a proxy, \n",
    "        # we need to return the real function\n",
    "        args_type = [type(arg) for arg in args]\n",
    "        args_key = tuple(args_type[1:])\n",
    "        print(\"call: args key\", args_key, \" registry: \", self.registry)\n",
    "        if  args_key in self.registry.keys():\n",
    "            return self.registry[args_key](*args)\n",
    "        else:\n",
    "            return self.default_func(*args, **kwargs)\n",
    "    \n",
    "    def match(self, *args):\n",
    "        # pass types in, like multidictdescriptor.match(int, int)\n",
    "        def register(func):\n",
    "            print(\"function defaults: \", func.__defaults__)\n",
    "            # TODO: add a check to check if the func signature matches the args\n",
    "            # since args are passed directly from the decorator,\n",
    "            # There's no self\n",
    "            self.registry[args] = func\n",
    "            # want to return the same multidictdescriptor instance itself back to Spam\n",
    "            return self\n",
    "        # the outer layer of decorator always returns the inner decorator function\n",
    "        return register\n",
    "        \n",
    "    def __get__(self, instance, cls):\n",
    "        # Step 2 - When we call multidictdescriptor instance, \n",
    "        # first step is to bind it with Spam instance, \n",
    "        # or just return multidictdescriptor instance itself as class instance\n",
    "        if instance is None:\n",
    "            return self\n",
    "        else:\n",
    "            from types import MethodType\n",
    "            return MethodType(self, instance)\n",
    "class Spam:\n",
    "    @multidictdescriptor\n",
    "    def f(self, *args, **kwargs):\n",
    "        raise TypeError(f\"No function implemented for args {args}, kwargs {kwargs}\")\n",
    "    \n",
    "    @f.match(int, int)\n",
    "    def f(self, a, b):\n",
    "        print(\"f1\")\n",
    "    # def f(self, a):\n",
    "    #     print(\"f2, \", a)\n",
    "\n",
    "s = Spam()\n",
    "s.f(1,2)\n"
   ]
  }
 ],
 "metadata": {
  "kernelspec": {
   "display_name": "Python 3.8.10 64-bit",
   "language": "python",
   "name": "python3"
  },
  "language_info": {
   "codemirror_mode": {
    "name": "ipython",
    "version": 3
   },
   "file_extension": ".py",
   "mimetype": "text/x-python",
   "name": "python",
   "nbconvert_exporter": "python",
   "pygments_lexer": "ipython3",
   "version": "3.8.10"
  },
  "orig_nbformat": 4,
  "vscode": {
   "interpreter": {
    "hash": "767d51c1340bd893661ea55ea3124f6de3c7a262a8b4abca0554b478b1e2ff90"
   }
  }
 },
 "nbformat": 4,
 "nbformat_minor": 2
}
