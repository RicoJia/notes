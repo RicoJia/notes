{
 "cells": [
  {
   "cell_type": "code",
   "execution_count": 16,
   "metadata": {},
   "outputs": [
    {
     "name": "stdout",
     "output_type": "stream",
     "text": [
      "wrapped another decorator_arg\n",
      "foo\n"
     ]
    }
   ],
   "source": [
    "# 9 - 6 Optional Args in Decorator: \n",
    "from functools import wraps, partial\n",
    "def d(func=None, decorator_arg=\"dec\"):\n",
    "    if func is None: \n",
    "        return partial(d, decorator_arg=decorator_arg)\n",
    "    \n",
    "    @wraps(func)\n",
    "    def wrap(*args, **kwargs):\n",
    "        print(\"wrapped\", decorator_arg)\n",
    "        func(*args, **kwargs)\n",
    "    return wrap\n",
    "\n",
    "# when there's decorator_arg in decorator, then decoration becomes d(args)(func)\n",
    "# so we need a decorator without args, so we can do func = d(func). \n",
    "# partial does the trick\n",
    "@d(decorator_arg=\"another decorator_arg\")\n",
    "def foo(a, b=\"hello\"):\n",
    "    # You can print the current function's name\n",
    "    print(foo.__name__)\n",
    "# foo = d(foo, decorator_arg=\"another decorator_arg\")\n",
    "\n",
    "foo(2,3)"
   ]
  },
  {
   "cell_type": "code",
   "execution_count": 1,
   "metadata": {},
   "outputs": [
    {
     "name": "stdout",
     "output_type": "stream",
     "text": [
      "foo a:  1\n",
      "Type check error, for a,                       want: <class 'int'>, got 22.4\n"
     ]
    }
   ],
   "source": [
    "# 9 - 7 Type checking\n",
    "# 1 simple structure\n",
    "from functools import partial, wraps\n",
    "def type_check(*types):\n",
    "    def decorate(func):\n",
    "        @wraps(func)\n",
    "        def wrap(*args, **kwargs):\n",
    "            return func(*args, **kwargs)\n",
    "        return wrap\n",
    "    return decorate\n",
    "\n",
    "# So you can add layers on top of the decorator layer, so another way to add optional args\n",
    "@type_check()\n",
    "def foo(a, b=\"hello\"):\n",
    "    print(foo.__name__, \"a: \", a)\n",
    "\n",
    "foo(1)\n",
    "        \n",
    "# 2 type checking \n",
    "from inspect import signature \n",
    "# The mechanism is to bind function with their args signature. \n",
    "# So we can compare intended types as a partially bound signature, \n",
    "# Actual function as a fully bound signature \n",
    "def type_check(func, fully_bound_func, *desired_types):\n",
    "    sig = signature(func)\n",
    "    bound_types = sig.bind_partial(*desired_types).arguments\n",
    "    # sig.bind.arguments = OrderedDict([(arg_name, arg_val) ... ])\n",
    "    for arg_name, arg_value in fully_bound_func.arguments.items():\n",
    "        if arg_name in bound_types:\n",
    "            \n",
    "            if not isinstance(arg_value, bound_types[arg_name]):\n",
    "                print(f\"Type check error, for {arg_name}, \\\n",
    "                      want: {bound_types[arg_name]}, got {arg_value}\")\n",
    "\n",
    "\n",
    "# bool will be considered an int\n",
    "type_check(foo, signature(foo).bind(22.4), int)    \n"
   ]
  },
  {
   "cell_type": "code",
   "execution_count": 4,
   "metadata": {},
   "outputs": [
    {
     "name": "stdout",
     "output_type": "stream",
     "text": [
      "dec2: \n",
      "foo\n"
     ]
    }
   ],
   "source": [
    "# 9-8 Define Decorator as part of a class \n",
    "class Foo:\n",
    "    def dec1(self, func):\n",
    "        def wrapped(*args, **kwargs):\n",
    "            print(\"dec1: \")\n",
    "            func(*args, **kwargs)\n",
    "        return wrapped\n",
    "    \n",
    "    @staticmethod\n",
    "    def dec2(func):\n",
    "        def wrapped(*args, **kwargs):\n",
    "            print(\"dec2: \")\n",
    "            func(*args, **kwargs)\n",
    "        return wrapped\n",
    "    \n",
    "@Foo.dec2\n",
    "def foo(a, b):\n",
    "    print(\"foo\")\n",
    "\n",
    "foo(1,2)"
   ]
  },
  {
   "cell_type": "code",
   "execution_count": 11,
   "metadata": {},
   "outputs": [
    {
     "data": {
      "text/plain": [
       "'another attr not set'"
      ]
     },
     "execution_count": 11,
     "metadata": {},
     "output_type": "execute_result"
    }
   ],
   "source": [
    "# 9-9.1 Property \n",
    "class Foo:\n",
    "    @property\n",
    "    def rico(self):\n",
    "        try:\n",
    "            return self.val\n",
    "        except AttributeError:\n",
    "            return \"rico not set\"\n",
    "    @rico.setter\n",
    "    def rico(self, value):\n",
    "        self.val = value\n",
    "    \n",
    "    # A property decorator is to define a property object like this.\n",
    "    another_attr = property()\n",
    "    @another_attr.getter\n",
    "    def another_attr(self):\n",
    "        try:\n",
    "            return self.another_val\n",
    "        except AttributeError:\n",
    "            return \"another attr not set\"\n",
    "    \n",
    "    @another_attr.setter\n",
    "    def another_attr(self, value):\n",
    "        self.another_val = value\n",
    "\n",
    "f = Foo()\n",
    "f.rico = \"random val\"\n",
    "f.rico\n",
    "\n",
    "f.another_attr\n"
   ]
  },
  {
   "cell_type": "code",
   "execution_count": 26,
   "metadata": {},
   "outputs": [
    {
     "name": "stdout",
     "output_type": "stream",
     "text": [
      "hello spam\n"
     ]
    },
    {
     "data": {
      "text/plain": [
       "2"
      ]
     },
     "execution_count": 26,
     "metadata": {},
     "output_type": "execute_result"
    }
   ],
   "source": [
    "# 9-9 Decorator implemented as a class (Pre-cursor of descriptor)\n",
    "# Profiling Layer\n",
    "from functools import wraps\n",
    "\n",
    "class Profile:\n",
    "    def __init__(self, func):\n",
    "        wraps(func)(self)\n",
    "        self.ncalls = 0\n",
    "    def __call__(self, *args, **kwargs):\n",
    "        self.ncalls = self.ncalls + 1\n",
    "        return self.__wrapped__(*args, **kwargs)\n",
    "    def __get__(self, instance, cls):\n",
    "        if instance is None:\n",
    "            return self\n",
    "        else:\n",
    "            from types import MethodType\n",
    "            return MethodType(self, instance)\n",
    "    \n",
    "@Profile\n",
    "def some_func(a,b):\n",
    "    return a,b\n",
    "\n",
    "some_func(1,2)\n",
    "some_func(1,2)\n",
    "some_func(1,2)\n",
    "# see 3\n",
    "some_func.ncalls\n",
    "# Profile object, since it's been wrapped.\n",
    "type(some_func)\n",
    "\n",
    "class Spam:\n",
    "    spam_attr = \"hello spam\"\n",
    "    # methods in a class are function objects, and needs to be bound to an instance of Spam. \n",
    "    # This is achieved by calling spam.__get__(s, x). A descriptor protocol\n",
    "    # Since it's been wrapped as Profile object, Profile class needs __get__ as well.\n",
    "    # MethodType is to bind the function with the corresponding object\n",
    "    @Profile\n",
    "    def spam(self, x):\n",
    "        return x\n",
    "\n",
    "s = Spam()\n",
    "s.spam(2)\n",
    "\n",
    "# To illustrate __get__ : class calls its method's __get__ to bind\n",
    "def spam_outside_class(self,x):\n",
    "    print(self.spam_attr)\n",
    "    return x\n",
    "# This creates a bound function to Spam, and calls the function.\n",
    "spam_outside_class.__get__(s, Spam)(2)\n"
   ]
  },
  {
   "cell_type": "code",
   "execution_count": 29,
   "metadata": {},
   "outputs": [
    {
     "name": "stdout",
     "output_type": "stream",
     "text": [
      "wrapped\n"
     ]
    }
   ],
   "source": [
    "# 9 - 10 static method must wrap the decorated function, not the other way around \n",
    "def dec(func):\n",
    "    def wrapper(*args, **kwargs):\n",
    "        func(*args, **kwargs)\n",
    "    return wrapper\n",
    "\n",
    "class Foo:\n",
    "    @staticmethod\n",
    "    @dec\n",
    "    def foo():\n",
    "        print(foo.__name__)\n",
    "Foo.foo()"
   ]
  },
  {
   "cell_type": "code",
   "execution_count": 41,
   "metadata": {},
   "outputs": [
    {
     "name": "stdout",
     "output_type": "stream",
     "text": [
      "1 2\n",
      "debugging\n",
      "3 4\n",
      "new attribute\n",
      "spam\n",
      "new attribute\n"
     ]
    },
    {
     "data": {
      "text/plain": [
       "3"
      ]
     },
     "execution_count": 41,
     "metadata": {},
     "output_type": "execute_result"
    }
   ],
   "source": [
    "# 9 - 11 \n",
    "# Adding more args while not breaking the wrapped function signature\n",
    "def dec(func):\n",
    "    def wrapper(*args, debug = False, **kwargs):\n",
    "        if debug:\n",
    "            print(\"debugging\")\n",
    "        func(*args, **kwargs)\n",
    "    return wrapper\n",
    "\n",
    "@dec\n",
    "def some_func(a,b):\n",
    "    print(a,b)\n",
    "\n",
    "some_func(1,2)\n",
    "# We added another arg here!\n",
    "some_func(3,4, debug=True)\n",
    "\n",
    "# 9 - 12 patch a class function with class decorator\n",
    "def class_dec(cls):\n",
    "    original_getattribute = cls.__getattribute__\n",
    "    def new_getattribute(self, name):\n",
    "        print(\"new attribute\")\n",
    "        return original_getattribute(self, name)\n",
    "    cls.__getattribute__ = new_getattribute\n",
    "    return cls\n",
    "\n",
    "@class_dec\n",
    "class Foo:\n",
    "    bar = 1\n",
    "    def __init__(self) -> None:\n",
    "        self.baz = 3\n",
    "    def spam(self):\n",
    "        print(\"spam\")\n",
    "\n",
    "# now can see \"new attribute\"\n",
    "Foo().spam()\n",
    "# this is a class variable, but not going through __getattribute__\n",
    "# One big reason to use getattr is because we can supply a default value\n",
    "print(getattr(Foo, \"bar\", \"default string\"))\n",
    "print(getattr(Foo(), \"baz\", \"default string\"))"
   ]
  },
  {
   "cell_type": "code",
   "execution_count": 49,
   "metadata": {},
   "outputs": [
    {
     "name": "stdout",
     "output_type": "stream",
     "text": [
      "foo\n",
      "No instances pls\n",
      "none\n",
      "args: (), kwargs: {}, cls:<class '__main__.Foo'>\n",
      "args: (), kwargs: {}, cls:<class '__main__.Foo'>\n"
     ]
    },
    {
     "data": {
      "text/plain": [
       "__main__.Foo"
      ]
     },
     "execution_count": 49,
     "metadata": {},
     "output_type": "execute_result"
    }
   ],
   "source": [
    "# 9 - 13 metaclass \n",
    "# Simple example 1\n",
    "from typing import Any\n",
    "# metaclass requires to be child class of type. Otherwise \"NoInstances() takes no arguments\" in metaclass declaration\n",
    "class NoInstances(type):\n",
    "    # So an instance of class NoInstances, the subsequent class, cannot be instantiated as it could be seen as a callable.\n",
    "    def __call__(self, *args: Any, **kwargs: Any): \n",
    "        raise TypeError(\"No instances pls\")\n",
    "\n",
    "class Spam(metaclass = NoInstances):\n",
    "    def __init__(self) -> None:\n",
    "       pass \n",
    "    \n",
    "    @staticmethod\n",
    "    def foo():\n",
    "        print(\"foo\")\n",
    "        \n",
    "    def __call__(self, *args: Any, **kwargs: Any): \n",
    "        print(\"yeehaw\")\n",
    "\n",
    "Spam.foo()\n",
    "\n",
    "try:\n",
    "    s = Spam()\n",
    "except TypeError as e:\n",
    "    print(e)\n",
    "\n",
    "# example 2\n",
    "class Singleton(type):\n",
    "    def __init__(cls, *args: Any, **kwargs: Any):\n",
    "        cls._instance = None\n",
    "\n",
    "    def __call__(cls, *args: Any, **kwargs: Any): \n",
    "        if cls._instance is None:\n",
    "            print(\"none\")\n",
    "            # here super(Singleton, cls).__call__(*args, *kwargs), which calls ctor of cls\n",
    "            cls._instance = super().__call__ is type.__call__()\n",
    "        print(f\"args: {args}, kwargs: {kwargs}, cls:{cls}\")\n",
    "        return cls._instance\n",
    "\n",
    "class Foo(metaclass = Singleton):\n",
    "    pass\n",
    "\n",
    "f = Foo()\n",
    "f2 = Foo()\n",
    "type(f)"
   ]
  }
 ],
 "metadata": {
  "kernelspec": {
   "display_name": "Python 3.8.10 64-bit",
   "language": "python",
   "name": "python3"
  },
  "language_info": {
   "codemirror_mode": {
    "name": "ipython",
    "version": 3
   },
   "file_extension": ".py",
   "mimetype": "text/x-python",
   "name": "python",
   "nbconvert_exporter": "python",
   "pygments_lexer": "ipython3",
   "version": "3.8.10"
  },
  "orig_nbformat": 4,
  "vscode": {
   "interpreter": {
    "hash": "767d51c1340bd893661ea55ea3124f6de3c7a262a8b4abca0554b478b1e2ff90"
   }
  }
 },
 "nbformat": 4,
 "nbformat_minor": 2
}
