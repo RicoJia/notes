{
 "cells": [
  {
   "cell_type": "code",
   "execution_count": 1,
   "metadata": {},
   "outputs": [
    {
     "ename": "CudaSupportError",
     "evalue": "Error at driver init: Call to cuInit results in CUDA_ERROR_UNKNOWN (999)",
     "output_type": "error",
     "traceback": [
      "\u001b[0;31m---------------------------------------------------------------------------\u001b[0m",
      "\u001b[0;31mCudaAPIError\u001b[0m                              Traceback (most recent call last)",
      "File \u001b[0;32m~/.local/lib/python3.8/site-packages/numba/cuda/cudadrv/driver.py:247\u001b[0m, in \u001b[0;36mDriver.ensure_initialized\u001b[0;34m(self)\u001b[0m\n\u001b[1;32m    246\u001b[0m     _logger\u001b[39m.\u001b[39minfo(\u001b[39m'\u001b[39m\u001b[39minit\u001b[39m\u001b[39m'\u001b[39m)\n\u001b[0;32m--> 247\u001b[0m     \u001b[39mself\u001b[39;49m\u001b[39m.\u001b[39;49mcuInit(\u001b[39m0\u001b[39;49m)\n\u001b[1;32m    248\u001b[0m \u001b[39mexcept\u001b[39;00m CudaAPIError \u001b[39mas\u001b[39;00m e:\n",
      "File \u001b[0;32m~/.local/lib/python3.8/site-packages/numba/cuda/cudadrv/driver.py:320\u001b[0m, in \u001b[0;36mDriver._ctypes_wrap_fn.<locals>.safe_cuda_api_call\u001b[0;34m(*args)\u001b[0m\n\u001b[1;32m    319\u001b[0m retcode \u001b[39m=\u001b[39m libfn(\u001b[39m*\u001b[39margs)\n\u001b[0;32m--> 320\u001b[0m \u001b[39mself\u001b[39;49m\u001b[39m.\u001b[39;49m_check_ctypes_error(fname, retcode)\n",
      "File \u001b[0;32m~/.local/lib/python3.8/site-packages/numba/cuda/cudadrv/driver.py:388\u001b[0m, in \u001b[0;36mDriver._check_ctypes_error\u001b[0;34m(self, fname, retcode)\u001b[0m\n\u001b[1;32m    387\u001b[0m     \u001b[39mself\u001b[39m\u001b[39m.\u001b[39m_detect_fork()\n\u001b[0;32m--> 388\u001b[0m \u001b[39mraise\u001b[39;00m CudaAPIError(retcode, msg)\n",
      "\u001b[0;31mCudaAPIError\u001b[0m: [999] Call to cuInit results in CUDA_ERROR_UNKNOWN",
      "\nDuring handling of the above exception, another exception occurred:\n",
      "\u001b[0;31mCudaSupportError\u001b[0m                          Traceback (most recent call last)",
      "\u001b[1;32m/home/rjia/file_exchange_port/notes/examples/python_examples/numba_pycuda/histogram_bin_count.ipynb Cell 1\u001b[0m line \u001b[0;36m<cell line: 47>\u001b[0;34m()\u001b[0m\n\u001b[1;32m     <a href='vscode-notebook-cell:/home/rjia/file_exchange_port/notes/examples/python_examples/numba_pycuda/histogram_bin_count.ipynb#W0sZmlsZQ%3D%3D?line=44'>45</a>\u001b[0m image \u001b[39m=\u001b[39m Image\u001b[39m.\u001b[39mopen(\u001b[39m\"\u001b[39m\u001b[39m/home/rjia/Pictures/activate_call_button.png\u001b[39m\u001b[39m\"\u001b[39m)\n\u001b[1;32m     <a href='vscode-notebook-cell:/home/rjia/file_exchange_port/notes/examples/python_examples/numba_pycuda/histogram_bin_count.ipynb#W0sZmlsZQ%3D%3D?line=45'>46</a>\u001b[0m \u001b[39m# image.show()\u001b[39;00m\n\u001b[0;32m---> <a href='vscode-notebook-cell:/home/rjia/file_exchange_port/notes/examples/python_examples/numba_pycuda/histogram_bin_count.ipynb#W0sZmlsZQ%3D%3D?line=46'>47</a>\u001b[0m compute_histogram(image)\n",
      "\u001b[1;32m/home/rjia/file_exchange_port/notes/examples/python_examples/numba_pycuda/histogram_bin_count.ipynb Cell 1\u001b[0m line \u001b[0;36mcompute_histogram\u001b[0;34m(image)\u001b[0m\n\u001b[1;32m     <a href='vscode-notebook-cell:/home/rjia/file_exchange_port/notes/examples/python_examples/numba_pycuda/histogram_bin_count.ipynb#W0sZmlsZQ%3D%3D?line=23'>24</a>\u001b[0m image \u001b[39m=\u001b[39m np\u001b[39m.\u001b[39masarray(image)\n\u001b[1;32m     <a href='vscode-notebook-cell:/home/rjia/file_exchange_port/notes/examples/python_examples/numba_pycuda/histogram_bin_count.ipynb#W0sZmlsZQ%3D%3D?line=25'>26</a>\u001b[0m \u001b[39m# Allocate memory on the device\u001b[39;00m\n\u001b[0;32m---> <a href='vscode-notebook-cell:/home/rjia/file_exchange_port/notes/examples/python_examples/numba_pycuda/histogram_bin_count.ipynb#W0sZmlsZQ%3D%3D?line=26'>27</a>\u001b[0m d_image \u001b[39m=\u001b[39m cuda\u001b[39m.\u001b[39;49mto_device(image)\n\u001b[1;32m     <a href='vscode-notebook-cell:/home/rjia/file_exchange_port/notes/examples/python_examples/numba_pycuda/histogram_bin_count.ipynb#W0sZmlsZQ%3D%3D?line=27'>28</a>\u001b[0m d_histogram \u001b[39m=\u001b[39m cuda\u001b[39m.\u001b[39mto_device(histogram)\n\u001b[1;32m     <a href='vscode-notebook-cell:/home/rjia/file_exchange_port/notes/examples/python_examples/numba_pycuda/histogram_bin_count.ipynb#W0sZmlsZQ%3D%3D?line=29'>30</a>\u001b[0m \u001b[39m# Configure the blocks\u001b[39;00m\n",
      "File \u001b[0;32m~/.local/lib/python3.8/site-packages/numba/cuda/cudadrv/devices.py:231\u001b[0m, in \u001b[0;36mrequire_context.<locals>._require_cuda_context\u001b[0;34m(*args, **kws)\u001b[0m\n\u001b[1;32m    229\u001b[0m \u001b[39m@functools\u001b[39m\u001b[39m.\u001b[39mwraps(fn)\n\u001b[1;32m    230\u001b[0m \u001b[39mdef\u001b[39;00m \u001b[39m_require_cuda_context\u001b[39m(\u001b[39m*\u001b[39margs, \u001b[39m*\u001b[39m\u001b[39m*\u001b[39mkws):\n\u001b[0;32m--> 231\u001b[0m     \u001b[39mwith\u001b[39;00m _runtime\u001b[39m.\u001b[39mensure_context():\n\u001b[1;32m    232\u001b[0m         \u001b[39mreturn\u001b[39;00m fn(\u001b[39m*\u001b[39margs, \u001b[39m*\u001b[39m\u001b[39m*\u001b[39mkws)\n",
      "File \u001b[0;32m/usr/lib/python3.8/contextlib.py:113\u001b[0m, in \u001b[0;36m_GeneratorContextManager.__enter__\u001b[0;34m(self)\u001b[0m\n\u001b[1;32m    111\u001b[0m \u001b[39mdel\u001b[39;00m \u001b[39mself\u001b[39m\u001b[39m.\u001b[39margs, \u001b[39mself\u001b[39m\u001b[39m.\u001b[39mkwds, \u001b[39mself\u001b[39m\u001b[39m.\u001b[39mfunc\n\u001b[1;32m    112\u001b[0m \u001b[39mtry\u001b[39;00m:\n\u001b[0;32m--> 113\u001b[0m     \u001b[39mreturn\u001b[39;00m \u001b[39mnext\u001b[39;49m(\u001b[39mself\u001b[39;49m\u001b[39m.\u001b[39;49mgen)\n\u001b[1;32m    114\u001b[0m \u001b[39mexcept\u001b[39;00m \u001b[39mStopIteration\u001b[39;00m:\n\u001b[1;32m    115\u001b[0m     \u001b[39mraise\u001b[39;00m \u001b[39mRuntimeError\u001b[39;00m(\u001b[39m\"\u001b[39m\u001b[39mgenerator didn\u001b[39m\u001b[39m'\u001b[39m\u001b[39mt yield\u001b[39m\u001b[39m\"\u001b[39m) \u001b[39mfrom\u001b[39;00m \u001b[39mNone\u001b[39m\n",
      "File \u001b[0;32m~/.local/lib/python3.8/site-packages/numba/cuda/cudadrv/devices.py:121\u001b[0m, in \u001b[0;36m_Runtime.ensure_context\u001b[0;34m(self)\u001b[0m\n\u001b[1;32m    110\u001b[0m \u001b[39m@contextmanager\u001b[39m\n\u001b[1;32m    111\u001b[0m \u001b[39mdef\u001b[39;00m \u001b[39mensure_context\u001b[39m(\u001b[39mself\u001b[39m):\n\u001b[1;32m    112\u001b[0m     \u001b[39m\"\"\"Ensure a CUDA context is available inside the context.\u001b[39;00m\n\u001b[1;32m    113\u001b[0m \n\u001b[1;32m    114\u001b[0m \u001b[39m    On entrance, queries the CUDA driver for an active CUDA context and\u001b[39;00m\n\u001b[0;32m   (...)\u001b[0m\n\u001b[1;32m    119\u001b[0m \u001b[39m    any top-level Numba CUDA API.\u001b[39;00m\n\u001b[1;32m    120\u001b[0m \u001b[39m    \"\"\"\u001b[39;00m\n\u001b[0;32m--> 121\u001b[0m     \u001b[39mwith\u001b[39;00m driver\u001b[39m.\u001b[39mget_active_context():\n\u001b[1;32m    122\u001b[0m         oldctx \u001b[39m=\u001b[39m \u001b[39mself\u001b[39m\u001b[39m.\u001b[39m_get_attached_context()\n\u001b[1;32m    123\u001b[0m         newctx \u001b[39m=\u001b[39m \u001b[39mself\u001b[39m\u001b[39m.\u001b[39mget_or_create_context(\u001b[39mNone\u001b[39;00m)\n",
      "File \u001b[0;32m~/.local/lib/python3.8/site-packages/numba/cuda/cudadrv/driver.py:488\u001b[0m, in \u001b[0;36m_ActiveContext.__enter__\u001b[0;34m(self)\u001b[0m\n\u001b[1;32m    486\u001b[0m \u001b[39melse\u001b[39;00m:\n\u001b[1;32m    487\u001b[0m     hctx \u001b[39m=\u001b[39m drvapi\u001b[39m.\u001b[39mcu_context(\u001b[39m0\u001b[39m)\n\u001b[0;32m--> 488\u001b[0m     driver\u001b[39m.\u001b[39;49mcuCtxGetCurrent(byref(hctx))\n\u001b[1;32m    489\u001b[0m     hctx \u001b[39m=\u001b[39m hctx \u001b[39mif\u001b[39;00m hctx\u001b[39m.\u001b[39mvalue \u001b[39melse\u001b[39;00m \u001b[39mNone\u001b[39;00m\n\u001b[1;32m    491\u001b[0m \u001b[39mif\u001b[39;00m hctx \u001b[39mis\u001b[39;00m \u001b[39mNone\u001b[39;00m:\n",
      "File \u001b[0;32m~/.local/lib/python3.8/site-packages/numba/cuda/cudadrv/driver.py:285\u001b[0m, in \u001b[0;36mDriver.__getattr__\u001b[0;34m(self, fname)\u001b[0m\n\u001b[1;32m    283\u001b[0m \u001b[39mdef\u001b[39;00m \u001b[39m__getattr__\u001b[39m(\u001b[39mself\u001b[39m, fname):\n\u001b[1;32m    284\u001b[0m     \u001b[39m# First request of a driver API function\u001b[39;00m\n\u001b[0;32m--> 285\u001b[0m     \u001b[39mself\u001b[39;49m\u001b[39m.\u001b[39;49mensure_initialized()\n\u001b[1;32m    287\u001b[0m     \u001b[39mif\u001b[39;00m \u001b[39mself\u001b[39m\u001b[39m.\u001b[39minitialization_error \u001b[39mis\u001b[39;00m \u001b[39mnot\u001b[39;00m \u001b[39mNone\u001b[39;00m:\n\u001b[1;32m    288\u001b[0m         \u001b[39mraise\u001b[39;00m CudaSupportError(\u001b[39m\"\u001b[39m\u001b[39mError at driver init: \u001b[39m\u001b[39m\\n\u001b[39;00m\u001b[39m%s\u001b[39;00m\u001b[39m:\u001b[39m\u001b[39m\"\u001b[39m \u001b[39m%\u001b[39m\n\u001b[1;32m    289\u001b[0m                                \u001b[39mself\u001b[39m\u001b[39m.\u001b[39minitialization_error)\n",
      "File \u001b[0;32m~/.local/lib/python3.8/site-packages/numba/cuda/cudadrv/driver.py:251\u001b[0m, in \u001b[0;36mDriver.ensure_initialized\u001b[0;34m(self)\u001b[0m\n\u001b[1;32m    249\u001b[0m     description \u001b[39m=\u001b[39m \u001b[39mf\u001b[39m\u001b[39m\"\u001b[39m\u001b[39m{\u001b[39;00me\u001b[39m.\u001b[39mmsg\u001b[39m}\u001b[39;00m\u001b[39m (\u001b[39m\u001b[39m{\u001b[39;00me\u001b[39m.\u001b[39mcode\u001b[39m}\u001b[39;00m\u001b[39m)\u001b[39m\u001b[39m\"\u001b[39m\n\u001b[1;32m    250\u001b[0m     \u001b[39mself\u001b[39m\u001b[39m.\u001b[39minitialization_error \u001b[39m=\u001b[39m description\n\u001b[0;32m--> 251\u001b[0m     \u001b[39mraise\u001b[39;00m CudaSupportError(\u001b[39mf\u001b[39m\u001b[39m\"\u001b[39m\u001b[39mError at driver init: \u001b[39m\u001b[39m{\u001b[39;00mdescription\u001b[39m}\u001b[39;00m\u001b[39m\"\u001b[39m)\n\u001b[1;32m    252\u001b[0m \u001b[39melse\u001b[39;00m:\n\u001b[1;32m    253\u001b[0m     \u001b[39mself\u001b[39m\u001b[39m.\u001b[39mpid \u001b[39m=\u001b[39m _getpid()\n",
      "\u001b[0;31mCudaSupportError\u001b[0m: Error at driver init: Call to cuInit results in CUDA_ERROR_UNKNOWN (999)"
     ]
    }
   ],
   "source": [
    "from numba import cuda\n",
    "import numpy as np\n",
    "\n",
    "@cuda.jit\n",
    "def histogram_kernel(image, histogram):\n",
    "    \"\"\"\n",
    "    CUDA kernel for calculating the histogram of an image.\n",
    "    Each thread calculates the histogram for one pixel and atomically increments the histogram bin.\n",
    "    \"\"\"\n",
    "    # Calculate the position of the current thread in the grid\n",
    "    x, y = cuda.grid(2)\n",
    "    if x < image.shape[0] and y < image.shape[1]:\n",
    "        # Get the pixel value\n",
    "        pixel_value = image[x, y]\n",
    "        # Atomically increment the corresponding histogram bin\n",
    "        cuda.atomic.add(histogram, pixel_value, 1)\n",
    "\n",
    "def compute_histogram(image):\n",
    "    \"\"\"\n",
    "    Compute the histogram of an image using CUDA.\n",
    "    \"\"\"\n",
    "    # Assuming image pixel values range from 0 to 255\n",
    "    histogram = np.zeros(256, dtype=np.uint32)\n",
    "    image = np.asarray(image)\n",
    "    \n",
    "    # Allocate memory on the device\n",
    "    d_image = cuda.to_device(image)\n",
    "    d_histogram = cuda.to_device(histogram)\n",
    "    \n",
    "    # Configure the blocks\n",
    "    threadsperblock = (16, 16)\n",
    "    blockspergrid_x = int(np.ceil(image.shape[0] / threadsperblock[0]))\n",
    "    blockspergrid_y = int(np.ceil(image.shape[1] / threadsperblock[1]))\n",
    "    blockspergrid = (blockspergrid_x, blockspergrid_y)\n",
    "    \n",
    "    # Launch the kernel\n",
    "    histogram_kernel[blockspergrid, threadsperblock](d_image, d_histogram)\n",
    "    \n",
    "    # # Copy the histogram back to the host\n",
    "    # histogram = d_histogram.copy_to_host()\n",
    "    \n",
    "    # return histogram\n",
    "\n",
    "from PIL import Image\n",
    "image = Image.open(\"/home/rjia/Pictures/activate_call_button.png\")\n",
    "# image.show()\n",
    "compute_histogram(image)"
   ]
  }
 ],
 "metadata": {
  "kernelspec": {
   "display_name": "Python 3",
   "language": "python",
   "name": "python3"
  },
  "language_info": {
   "codemirror_mode": {
    "name": "ipython",
    "version": 3
   },
   "file_extension": ".py",
   "mimetype": "text/x-python",
   "name": "python",
   "nbconvert_exporter": "python",
   "pygments_lexer": "ipython3",
   "version": "3.8.10"
  }
 },
 "nbformat": 4,
 "nbformat_minor": 2
}
